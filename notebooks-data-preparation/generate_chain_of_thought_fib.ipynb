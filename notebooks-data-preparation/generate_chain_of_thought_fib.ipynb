{
 "cells": [
  {
   "cell_type": "code",
   "execution_count": 16,
   "metadata": {},
   "outputs": [],
   "source": [
    "import os\n",
    "import json\n",
    "\n",
    "from openai import OpenAI\n",
    "from tqdm.notebook import tqdm\n",
    "from huggingface_hub import create_repo, login, HfApi\n",
    "from concurrent.futures import ThreadPoolExecutor, \\\n",
    "                               as_completed\n",
    "from tenacity import retry, stop_after_attempt, \\\n",
    "                     wait_random_exponential"
   ]
  },
  {
   "cell_type": "code",
   "execution_count": 2,
   "metadata": {},
   "outputs": [],
   "source": [
    "os.environ['OPENAI_API_KEY'] = ''"
   ]
  },
  {
   "cell_type": "code",
   "execution_count": 3,
   "metadata": {},
   "outputs": [],
   "source": [
    "client = OpenAI()"
   ]
  },
  {
   "cell_type": "code",
   "execution_count": 17,
   "metadata": {},
   "outputs": [
    {
     "name": "stdout",
     "output_type": "stream",
     "text": [
      "The token has not been saved to the git credentials helper. Pass `add_to_git_credential=True` in this function directly or `--add-to-git-credential` if using via `huggingface-cli` if you want to set the git credential as well.\n",
      "Token is valid (permission: fineGrained).\n",
      "Your token has been saved to /home/faiq0913/.cache/huggingface/token\n",
      "Login successful\n"
     ]
    }
   ],
   "source": [
    "# set login credentials for Huggingface\n",
    "login('')\n",
    "\n",
    "api = HfApi()"
   ]
  },
  {
   "cell_type": "markdown",
   "metadata": {},
   "source": [
    "### 1.0 Load and generate chain of thought for Boolq"
   ]
  },
  {
   "cell_type": "markdown",
   "metadata": {},
   "source": [
    "#### 1.1 Load files"
   ]
  },
  {
   "cell_type": "code",
   "execution_count": 5,
   "metadata": {},
   "outputs": [],
   "source": [
    "files = [\n",
    "    '../datasets/fib-english.jsonl',\n",
    "    '../datasets/openai-generated/fib-malay-openai.jsonl',\n",
    "]"
   ]
  },
  {
   "cell_type": "code",
   "execution_count": 6,
   "metadata": {},
   "outputs": [
    {
     "data": {
      "application/vnd.jupyter.widget-view+json": {
       "model_id": "881f8479dbbf4d63b744a96ce4f32e46",
       "version_major": 2,
       "version_minor": 0
      },
      "text/plain": [
       "0it [00:00, ?it/s]"
      ]
     },
     "metadata": {},
     "output_type": "display_data"
    },
    {
     "data": {
      "application/vnd.jupyter.widget-view+json": {
       "model_id": "11b97fbb47894db9ac48159ab95c4a3c",
       "version_major": 2,
       "version_minor": 0
      },
      "text/plain": [
       "0it [00:00, ?it/s]"
      ]
     },
     "metadata": {},
     "output_type": "display_data"
    },
    {
     "name": "stdout",
     "output_type": "stream",
     "text": [
      "Length of dataset: 7610\n"
     ]
    }
   ],
   "source": [
    "data_all = []\n",
    "\n",
    "for f in files:\n",
    "    with open(f) as fopen:\n",
    "        for d in tqdm(fopen):\n",
    "            d = json.loads(d)\n",
    "            data_all.append(d)\n",
    "\n",
    "print(f'Length of dataset: {len(data_all)}')"
   ]
  },
  {
   "cell_type": "code",
   "execution_count": 7,
   "metadata": {},
   "outputs": [
    {
     "data": {
      "text/plain": [
       "{'passage': 'Vehicles and pedestrians will now embark and disembark the Cowes ferry separately following Maritime and Coastguard Agency (MCA) guidance.\\nIsle of Wight Council said its new procedures were in response to a resident\\'s complaint.\\nCouncillor Shirley Smart said it would \"initially result in a slower service\".\\nOriginally passengers and vehicles boarded or disembarked the so called \"floating bridge\" at the same time.\\nMs Smart, who is the executive member for economy and tourism, said the council already had measures in place to control how passengers and vehicles left or embarked the chain ferry \"in a safe manner\".\\nHowever, it was \"responding\" to the MCA\\'s recommendations \"following this complaint\".\\nShe added: \"This may initially result in a slower service while the measures are introduced and our customers get used to the changes.\"\\nThe service has been in operation since 1859.',\n",
       " 'summary': \"A new service on the Isle of Wight's chain ferry has been launched following a complaint from a resident.\",\n",
       " 'answer': 0,\n",
       " 'language': 'English'}"
      ]
     },
     "execution_count": 7,
     "metadata": {},
     "output_type": "execute_result"
    }
   ],
   "source": [
    "data_all[0]"
   ]
  },
  {
   "cell_type": "code",
   "execution_count": 9,
   "metadata": {},
   "outputs": [],
   "source": [
    "# Define a function to handle when all retries fail\n",
    "def after_all_retries(retry_state):\n",
    "    print(retry_state.outcome.exception())\n",
    "    print(retry_state)\n",
    "    print(\"All retries failed. Moving on...\\n\")"
   ]
  },
  {
   "cell_type": "code",
   "execution_count": 10,
   "metadata": {},
   "outputs": [],
   "source": [
    "@retry(\n",
    "        stop=stop_after_attempt(3),\n",
    "        wait=wait_random_exponential(min=1, max=60),\n",
    "        retry_error_callback=after_all_retries,\n",
    ")\n",
    "def generate_reasoning(sample):\n",
    "    prompt = f\"\"\"You were initially tasked with determining whether a particular\n",
    "        statement/question is factually/logically consistent (1) or not (0) based on a\n",
    "        given passage.\n",
    "\n",
    "        Passage (Input):\n",
    "        ```\n",
    "        {sample['passage']}\n",
    "        ```\n",
    "\n",
    "        Statement (Input):\n",
    "        ```\n",
    "        {sample['summary']}\n",
    "        ```\n",
    "\n",
    "        Answer (Output):\n",
    "        ```\n",
    "        {sample['answer']}\n",
    "        ```\n",
    "\n",
    "        Provide step-by-step explanation for the output based on the Context/Statement given.\n",
    "        Please give your answer in {sample['language']}.\n",
    "        \"\"\"\n",
    "\n",
    "    completion = client.chat.completions.create(\n",
    "      model=\"gpt-4o-mini\",\n",
    "      max_completion_tokens=1024,\n",
    "      temperature=0.2,\n",
    "      messages=[\n",
    "        {\"role\": \"system\", \"content\": \"You are an expert in detecting factual inconsistencies and hallucinations.\"},\n",
    "        {\"role\": \"user\", \"content\": prompt}\n",
    "      ]\n",
    "    )\n",
    "\n",
    "    return {\n",
    "        'passage': sample['passage'],\n",
    "        'summary': sample['summary'],\n",
    "        'answer': sample['answer'],\n",
    "        'language': sample['language'],\n",
    "        'reasoning': completion.choices[0].message.content,\n",
    "    }"
   ]
  },
  {
   "cell_type": "code",
   "execution_count": 11,
   "metadata": {},
   "outputs": [
    {
     "data": {
      "text/plain": [
       "{'passage': 'The 24-year-old tight-head is among the starting XV who are given a chance to redeem themselves after the 29-13 defeat by Scotland.\\nAsked if he was relieved to be retained, the Exeter Chiefs player replied: \"Oh yeah.\\n\"Obviously you want to keep your place and after a loss everyone was on edge.\"\\nFrancis continued: \"It\\'s good we\\'ve got a good squad and a good depth especially in my position.\\n\"There\\'s Samson [Lee] there\\'s me and there\\'s Rhods [Rhodri Jones] and there\\'s Scott Andrews.\\n\"If you don\\'t have a good game there\\'s someone knocking ready to do anything to take your place.\"\\nMedia playback is not supported on this device\\nWales go into Friday night\\'s match in Cardiff off the back of defeats by Scotland and England.\\nAnother defeat will mean it would be Wales\\' worst championship since 2010 and Francis accepts the players have something to prove at the Principality Stadium.\\nFrancis says he has managed to avoid the worst of the criticism aimed at the team in Wales because he plays his club rugby in the south west of England.\\n\"It\\'s a bit like a fishbowl isn\\'t it,\" he said.\\n\"When the game doesn\\'t go how you want it\\'s quite hard not to take that personally especially if you look at the press.\\n\"I guess I\\'m lucky in the weeks after the losses I\\'ve been back in Exeter.\\n\"I didn\\'t have to stay here and I sort of managed to get away from that and focus on something else and then come back into it.\\n\"It\\'s not a nation is it? It\\'s a little part of the south west and there\\'s only a few papers that will print anything about the rugby, but here it\\'s all over the news.\"',\n",
       " 'summary': 'Wales captain Dan Francis says he is \"on edge\" after his side\\'s loss to England.',\n",
       " 'answer': 0,\n",
       " 'language': 'English',\n",
       " 'reasoning': 'To determine whether the statement is factually/logically consistent with the passage, let\\'s analyze both the passage and the statement step-by-step.\\n\\n1. **Identify Key Information in the Passage**:\\n   - The passage discusses a 24-year-old tight-head player (Dan Francis) who is part of the Welsh rugby team.\\n   - He expresses relief at being retained in the starting lineup after a loss to Scotland (not England).\\n   - He mentions that after a loss, \"everyone was on edge,\" but he does not specifically say that he himself is \"on edge.\"\\n   - The passage indicates that Wales has lost to both Scotland and England, but the focus is on the loss to Scotland as the immediate context for his comments.\\n   - Francis also talks about managing to avoid criticism due to playing club rugby in Exeter.\\n\\n2. **Analyze the Statement**:\\n   - The statement claims that \"Wales captain Dan Francis says he is \\'on edge\\' after his side\\'s loss to England.\"\\n   - It attributes the feeling of being \"on edge\" directly to Dan Francis and specifically to the loss against England.\\n\\n3. **Check for Factual Consistency**:\\n   - The passage does not state that Dan Francis is the captain of the Wales team; it only identifies him as a player.\\n   - The phrase \"on edge\" is used in the passage, but it is not attributed directly to Francis himself; rather, it refers to the general feeling among the team after a loss.\\n   - The loss mentioned in the passage that relates to his comments is against Scotland, not England.\\n\\n4. **Conclusion**:\\n   - The statement misattributes the feeling of being \"on edge\" to Dan Francis specifically and incorrectly links it to the loss against England, rather than the loss to Scotland.\\n   - Therefore, the statement is factually inconsistent with the information provided in the passage.\\n\\nBased on this analysis, the output is:\\n\\n```\\n0\\n```'}"
      ]
     },
     "execution_count": 11,
     "metadata": {},
     "output_type": "execute_result"
    }
   ],
   "source": [
    "generate_reasoning(data_all[66])"
   ]
  },
  {
   "cell_type": "code",
   "execution_count": 13,
   "metadata": {},
   "outputs": [
    {
     "data": {
      "text/plain": [
       "{'passage': 'Burung yang dikenali secara rasmi sebagai LF15, dan pasangannya LM12, telah membiakkan tiga anak burung pada tahun 2015 dan 2016 di rizab Dunkeld. Lassie tiba kembali di Scotland pada 23 Mac, enam hari selepas pasangannya. Penonton dari seluruh dunia telah menyaksikan kemajuan pasangan itu di webcam langsung Loch of the Lowes. Charlotte Fleming, penjaga Perthshire untuk Scottish Wildlife Trust, berkata: \"LF15 telah menetap untuk memulakan pengeraman, dan kami menjangkakan telur itu akan menetas dalam masa kira-kira enam minggu. \"Kini jelas bahawa usaha pasangan itu untuk membiakkan telah berjaya dan mereka berada di landasan untuk mengulangi kejayaan tiga anak burung yang menetas pada tahun 2015 dan 2016.\",',\n",
       " 'summary': 'Pasangan itu diperkenalkan ke kawasan simpanan pada tahun 2013 oleh Scottish Wildlife Trust dan pasangan itu telah diperkenalkan semula ke kawasan simpanan oleh Scottish Raptor Study Group. Loch of the Lowes adalah kawasan hutan yang luas.',\n",
       " 'answer': 0,\n",
       " 'language': 'Malay',\n",
       " 'reasoning': 'Untuk menentukan sama ada kenyataan tersebut konsisten dengan petikan yang diberikan, kita perlu menganalisis kedua-dua sumber maklumat tersebut secara terperinci.\\n\\n1. **Analisis Petikan**:\\n   - Petikan menyebut bahawa burung LF15 dan pasangannya LM12 telah membiakkan tiga anak burung pada tahun 2015 dan 2016.\\n   - LF15 kembali ke Scotland pada 23 Mac, enam hari selepas pasangannya.\\n   - Penjaga Scottish Wildlife Trust, Charlotte Fleming, mengesahkan bahawa LF15 telah mula mengeram dan menjangkakan telur akan menetas dalam masa kira-kira enam minggu.\\n   - Petikan tidak menyebut tentang pengenalan pasangan burung ini ke kawasan simpanan pada tahun 2013 atau sebarang maklumat tentang Loch of the Lowes sebagai kawasan hutan yang luas.\\n\\n2. **Analisis Kenyataan**:\\n   - Kenyataan menyatakan bahawa pasangan itu diperkenalkan ke kawasan simpanan pada tahun 2013 oleh Scottish Wildlife Trust dan kemudian diperkenalkan semula oleh Scottish Raptor Study Group.\\n   - Kenyataan juga menyebut bahawa Loch of the Lowes adalah kawasan hutan yang luas.\\n\\n3. **Ketidakcocokan**:\\n   - Petikan tidak memberikan maklumat tentang pengenalan pasangan burung LF15 dan LM12 pada tahun 2013, yang bertentangan dengan kenyataan.\\n   - Tiada bukti dalam petikan yang menyokong bahawa pasangan itu diperkenalkan semula oleh Scottish Raptor Study Group.\\n   - Petikan tidak menyatakan apa-apa tentang Loch of the Lowes sebagai kawasan hutan yang luas, jadi kita tidak dapat mengesahkan kenyataan tersebut.\\n\\n4. **Kesimpulan**:\\n   - Oleh kerana kenyataan mengandungi maklumat yang tidak disokong oleh petikan dan juga menambah fakta yang tidak terdapat dalam petikan, kita boleh menyimpulkan bahawa kenyataan tersebut tidak konsisten dengan petikan.\\n\\nOleh itu, jawapan yang tepat adalah `0`, menunjukkan bahawa kenyataan tersebut tidak konsisten dengan petikan yang diberikan.'}"
      ]
     },
     "execution_count": 13,
     "metadata": {},
     "output_type": "execute_result"
    }
   ],
   "source": [
    "generate_reasoning(data_all[5600])"
   ]
  },
  {
   "cell_type": "markdown",
   "metadata": {},
   "source": [
    "#### 1.2 Use multithreading and call OpenAI API"
   ]
  },
  {
   "cell_type": "code",
   "execution_count": 14,
   "metadata": {},
   "outputs": [
    {
     "data": {
      "application/vnd.jupyter.widget-view+json": {
       "model_id": "d4c962740b2c4dd1966b5f199289b066",
       "version_major": 2,
       "version_minor": 0
      },
      "text/plain": [
       "  0%|          | 0/153 [00:00<?, ?it/s]"
      ]
     },
     "metadata": {},
     "output_type": "display_data"
    }
   ],
   "source": [
    "max_worker = 50\n",
    "\n",
    "for i in tqdm(range(0, len(data_all), max_worker)):\n",
    "    with ThreadPoolExecutor(max_workers=max_worker) as executor:\n",
    "        futures = {executor.submit(generate_reasoning, t): t for t in data_all[i: i + max_worker]}\n",
    "\n",
    "        for future in as_completed(futures):\n",
    "            result = future.result()\n",
    "            if result:\n",
    "                with open('../datasets/openai-generated/fib-with-reasoning.jsonl', 'a') as final:\n",
    "                    json.dump(result, final)\n",
    "                    final.write('\\n')"
   ]
  },
  {
   "cell_type": "code",
   "execution_count": 18,
   "metadata": {},
   "outputs": [
    {
     "data": {
      "text/plain": [
       "RepoUrl('https://huggingface.co/datasets/wanadzhar913/fib-malay-with-chain-of-thought', endpoint='https://huggingface.co', repo_type='dataset', repo_id='wanadzhar913/fib-malay-with-chain-of-thought')"
      ]
     },
     "execution_count": 18,
     "metadata": {},
     "output_type": "execute_result"
    }
   ],
   "source": [
    "create_repo(\"wanadzhar913/fib-malay-with-chain-of-thought\", repo_type=\"dataset\")"
   ]
  },
  {
   "cell_type": "code",
   "execution_count": 20,
   "metadata": {},
   "outputs": [
    {
     "data": {
      "application/vnd.jupyter.widget-view+json": {
       "model_id": "0820d59f07574e8ab50de570ffcc71e6",
       "version_major": 2,
       "version_minor": 0
      },
      "text/plain": [
       "fib-with-reasoning.jsonl:   0%|          | 0.00/26.6M [00:00<?, ?B/s]"
      ]
     },
     "metadata": {},
     "output_type": "display_data"
    },
    {
     "data": {
      "text/plain": [
       "CommitInfo(commit_url='https://huggingface.co/datasets/wanadzhar913/fib-malay-with-chain-of-thought/commit/9517ddbe153f9c359025c20e2f7ae3eb2c97d3e8', commit_message='Upload fib-with-reasoning.jsonl with huggingface_hub', commit_description='', oid='9517ddbe153f9c359025c20e2f7ae3eb2c97d3e8', pr_url=None, repo_url=RepoUrl('https://huggingface.co/datasets/wanadzhar913/fib-malay-with-chain-of-thought', endpoint='https://huggingface.co', repo_type='dataset', repo_id='wanadzhar913/fib-malay-with-chain-of-thought'), pr_revision=None, pr_num=None)"
      ]
     },
     "execution_count": 20,
     "metadata": {},
     "output_type": "execute_result"
    }
   ],
   "source": [
    "api.upload_file(\n",
    "    path_or_fileobj='../datasets/openai-generated/fib-with-reasoning.jsonl',\n",
    "    path_in_repo='fib-with-reasoning.jsonl',\n",
    "    repo_id=\"wanadzhar913/fib-malay-with-chain-of-thought\",\n",
    "    repo_type=\"dataset\",\n",
    ")"
   ]
  }
 ],
 "metadata": {
  "kernelspec": {
   "display_name": ".env",
   "language": "python",
   "name": "python3"
  },
  "language_info": {
   "codemirror_mode": {
    "name": "ipython",
    "version": 3
   },
   "file_extension": ".py",
   "mimetype": "text/x-python",
   "name": "python",
   "nbconvert_exporter": "python",
   "pygments_lexer": "ipython3",
   "version": "3.11.0rc1"
  }
 },
 "nbformat": 4,
 "nbformat_minor": 2
}
