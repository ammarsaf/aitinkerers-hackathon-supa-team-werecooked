{
 "cells": [
  {
   "cell_type": "code",
   "execution_count": 1,
   "metadata": {},
   "outputs": [],
   "source": [
    "import pandas as pd\n",
    "from tqdm.notebook import tqdm\n",
    "from datasets import load_dataset\n",
    "from huggingface_hub import HfApi, login\n",
    "\n",
    "import torch\n",
    "from transformers import T5Tokenizer, T5ForConditionalGeneration"
   ]
  },
  {
   "cell_type": "code",
   "execution_count": 2,
   "metadata": {},
   "outputs": [
    {
     "name": "stdout",
     "output_type": "stream",
     "text": [
      "The token has not been saved to the git credentials helper. Pass `add_to_git_credential=True` in this function directly or `--add-to-git-credential` if using via `huggingface-cli` if you want to set the git credential as well.\n",
      "Token is valid (permission: fineGrained).\n",
      "Your token has been saved to /home/faiq0913/.cache/huggingface/token\n",
      "Login successful\n"
     ]
    }
   ],
   "source": [
    "# set login credentials for Huggingface\n",
    "login('')\n",
    "\n",
    "api = HfApi()"
   ]
  },
  {
   "cell_type": "code",
   "execution_count": 3,
   "metadata": {},
   "outputs": [
    {
     "name": "stderr",
     "output_type": "stream",
     "text": [
      "You are using the default legacy behaviour of the <class 'transformers.models.t5.tokenization_t5.T5Tokenizer'>. This is expected, and simply means that the `legacy` (previous) behavior will be used so nothing changes for you. If you want to use the new behaviour, set `legacy=False`. This should only be set if you understand what it means, and thoroughly read the reason why this was added as explained in https://github.com/huggingface/transformers/pull/24565\n"
     ]
    }
   ],
   "source": [
    "# load model for translations\n",
    "tokenizer = T5Tokenizer.from_pretrained('mesolitica/t5-base-standard-bahasa-cased')\n",
    "model = T5ForConditionalGeneration.from_pretrained('mesolitica/t5-base-standard-bahasa-cased').cuda()"
   ]
  },
  {
   "cell_type": "code",
   "execution_count": 4,
   "metadata": {},
   "outputs": [
    {
     "name": "stdout",
     "output_type": "stream",
     "text": [
      "Sun Oct 13 16:34:33 2024       \n",
      "+-----------------------------------------------------------------------------------------+\n",
      "| NVIDIA-SMI 555.52.01              Driver Version: 555.99         CUDA Version: 12.5     |\n",
      "|-----------------------------------------+------------------------+----------------------+\n",
      "| GPU  Name                 Persistence-M | Bus-Id          Disp.A | Volatile Uncorr. ECC |\n",
      "| Fan  Temp   Perf          Pwr:Usage/Cap |           Memory-Usage | GPU-Util  Compute M. |\n",
      "|                                         |                        |               MIG M. |\n",
      "|=========================================+========================+======================|\n",
      "|   0  NVIDIA GeForce RTX 4050 ...    On  |   00000000:01:00.0 Off |                  N/A |\n",
      "| N/A   48C    P3              8W /   45W |    1017MiB /   6141MiB |      0%      Default |\n",
      "|                                         |                        |                  N/A |\n",
      "+-----------------------------------------+------------------------+----------------------+\n",
      "                                                                                         \n",
      "+-----------------------------------------------------------------------------------------+\n",
      "| Processes:                                                                              |\n",
      "|  GPU   GI   CI        PID   Type   Process name                              GPU Memory |\n",
      "|        ID   ID                                                               Usage      |\n",
      "|=========================================================================================|\n",
      "|    0   N/A  N/A      7595      C   /python3.11                                 N/A      |\n",
      "+-----------------------------------------------------------------------------------------+\n"
     ]
    }
   ],
   "source": [
    "!nvidia-smi"
   ]
  },
  {
   "cell_type": "markdown",
   "metadata": {},
   "source": [
    "### 1.0 Load, explore & clean BoolQ dataset"
   ]
  },
  {
   "cell_type": "code",
   "execution_count": 5,
   "metadata": {},
   "outputs": [],
   "source": [
    "# we'll be taking the validation set only\n",
    "ds = load_dataset('google/boolq', split='validation')\n",
    "df = ds.to_pandas()"
   ]
  },
  {
   "cell_type": "code",
   "execution_count": 6,
   "metadata": {},
   "outputs": [
    {
     "data": {
      "text/html": [
       "<div>\n",
       "<style scoped>\n",
       "    .dataframe tbody tr th:only-of-type {\n",
       "        vertical-align: middle;\n",
       "    }\n",
       "\n",
       "    .dataframe tbody tr th {\n",
       "        vertical-align: top;\n",
       "    }\n",
       "\n",
       "    .dataframe thead th {\n",
       "        text-align: right;\n",
       "    }\n",
       "</style>\n",
       "<table border=\"1\" class=\"dataframe\">\n",
       "  <thead>\n",
       "    <tr style=\"text-align: right;\">\n",
       "      <th></th>\n",
       "      <th>question</th>\n",
       "      <th>answer</th>\n",
       "      <th>passage</th>\n",
       "    </tr>\n",
       "  </thead>\n",
       "  <tbody>\n",
       "    <tr>\n",
       "      <th>0</th>\n",
       "      <td>does ethanol take more energy make that produces</td>\n",
       "      <td>False</td>\n",
       "      <td>All biomass goes through at least some of thes...</td>\n",
       "    </tr>\n",
       "    <tr>\n",
       "      <th>1</th>\n",
       "      <td>is house tax and property tax are same</td>\n",
       "      <td>True</td>\n",
       "      <td>Property tax or 'house tax' is a local tax on ...</td>\n",
       "    </tr>\n",
       "    <tr>\n",
       "      <th>2</th>\n",
       "      <td>is pain experienced in a missing body part or ...</td>\n",
       "      <td>True</td>\n",
       "      <td>Phantom pain sensations are described as perce...</td>\n",
       "    </tr>\n",
       "  </tbody>\n",
       "</table>\n",
       "</div>"
      ],
      "text/plain": [
       "                                            question  answer  \\\n",
       "0   does ethanol take more energy make that produces   False   \n",
       "1             is house tax and property tax are same    True   \n",
       "2  is pain experienced in a missing body part or ...    True   \n",
       "\n",
       "                                             passage  \n",
       "0  All biomass goes through at least some of thes...  \n",
       "1  Property tax or 'house tax' is a local tax on ...  \n",
       "2  Phantom pain sensations are described as perce...  "
      ]
     },
     "execution_count": 6,
     "metadata": {},
     "output_type": "execute_result"
    }
   ],
   "source": [
    "df.head(3)"
   ]
  },
  {
   "cell_type": "code",
   "execution_count": 7,
   "metadata": {},
   "outputs": [
    {
     "name": "stdout",
     "output_type": "stream",
     "text": [
      "<class 'pandas.core.frame.DataFrame'>\n",
      "RangeIndex: 3270 entries, 0 to 3269\n",
      "Data columns (total 3 columns):\n",
      " #   Column    Non-Null Count  Dtype \n",
      "---  ------    --------------  ----- \n",
      " 0   question  3270 non-null   object\n",
      " 1   answer    3270 non-null   bool  \n",
      " 2   passage   3270 non-null   object\n",
      "dtypes: bool(1), object(2)\n",
      "memory usage: 54.4+ KB\n"
     ]
    }
   ],
   "source": [
    "df.info()"
   ]
  },
  {
   "cell_type": "code",
   "execution_count": 8,
   "metadata": {},
   "outputs": [
    {
     "data": {
      "text/plain": [
       "answer\n",
       "True     0.621713\n",
       "False    0.378287\n",
       "Name: proportion, dtype: float64"
      ]
     },
     "execution_count": 8,
     "metadata": {},
     "output_type": "execute_result"
    }
   ],
   "source": [
    "df.answer.value_counts(normalize=True)"
   ]
  },
  {
   "cell_type": "code",
   "execution_count": 10,
   "metadata": {},
   "outputs": [
    {
     "data": {
      "text/plain": [
       "'does ethanol take more energy make that produces'"
      ]
     },
     "execution_count": 10,
     "metadata": {},
     "output_type": "execute_result"
    }
   ],
   "source": [
    "df.iloc[0].question"
   ]
  },
  {
   "cell_type": "code",
   "execution_count": 9,
   "metadata": {},
   "outputs": [
    {
     "data": {
      "text/plain": [
       "\"All biomass goes through at least some of these steps: it needs to be grown, collected, dried, fermented, distilled, and burned. All of these steps require resources and an infrastructure. The total amount of energy input into the process compared to the energy released by burning the resulting ethanol fuel is known as the energy balance (or ``energy returned on energy invested''). Figures compiled in a 2007 report by National Geographic Magazine point to modest results for corn ethanol produced in the US: one unit of fossil-fuel energy is required to create 1.3 energy units from the resulting ethanol. The energy balance for sugarcane ethanol produced in Brazil is more favorable, with one unit of fossil-fuel energy required to create 8 from the ethanol. Energy balance estimates are not easily produced, thus numerous such reports have been generated that are contradictory. For instance, a separate survey reports that production of ethanol from sugarcane, which requires a tropical climate to grow productively, returns from 8 to 9 units of energy for each unit expended, as compared to corn, which only returns about 1.34 units of fuel energy for each unit of energy expended. A 2006 University of California Berkeley study, after analyzing six separate studies, concluded that producing ethanol from corn uses much less petroleum than producing gasoline.\""
      ]
     },
     "execution_count": 9,
     "metadata": {},
     "output_type": "execute_result"
    }
   ],
   "source": [
    "df.iloc[0].passage"
   ]
  },
  {
   "cell_type": "markdown",
   "metadata": {},
   "source": [
    "Before we proceed any further, it's important we ensure the *passage* column has at most 1024 tokens (due to our model only being able to take a maximum of 1024 tokens at a time). Hence, we create a function below that counts the number of tokens for every row in the *passage* column."
   ]
  },
  {
   "cell_type": "code",
   "execution_count": 49,
   "metadata": {},
   "outputs": [],
   "source": [
    "def count_tokens(text: str):\n",
    "    \"\"\"Function to calculate the amount of tokens after encoding with the tokenizer.\"\"\"\n",
    "    return (len(tokenizer.encode(f'terjemah Inggeris ke Melayu: {text}', return_tensors = 'pt')[0]))"
   ]
  },
  {
   "cell_type": "code",
   "execution_count": 50,
   "metadata": {},
   "outputs": [
    {
     "data": {
      "text/html": [
       "<div>\n",
       "<style scoped>\n",
       "    .dataframe tbody tr th:only-of-type {\n",
       "        vertical-align: middle;\n",
       "    }\n",
       "\n",
       "    .dataframe tbody tr th {\n",
       "        vertical-align: top;\n",
       "    }\n",
       "\n",
       "    .dataframe thead th {\n",
       "        text-align: right;\n",
       "    }\n",
       "</style>\n",
       "<table border=\"1\" class=\"dataframe\">\n",
       "  <thead>\n",
       "    <tr style=\"text-align: right;\">\n",
       "      <th></th>\n",
       "      <th>question</th>\n",
       "      <th>answer</th>\n",
       "      <th>passage</th>\n",
       "      <th>passage_sequence_length</th>\n",
       "      <th>language</th>\n",
       "    </tr>\n",
       "  </thead>\n",
       "  <tbody>\n",
       "    <tr>\n",
       "      <th>0</th>\n",
       "      <td>does ethanol take more energy make that produces</td>\n",
       "      <td>0</td>\n",
       "      <td>All biomass goes through at least some of thes...</td>\n",
       "      <td>280</td>\n",
       "      <td>English</td>\n",
       "    </tr>\n",
       "    <tr>\n",
       "      <th>1</th>\n",
       "      <td>is house tax and property tax are same</td>\n",
       "      <td>1</td>\n",
       "      <td>Property tax or 'house tax' is a local tax on ...</td>\n",
       "      <td>299</td>\n",
       "      <td>English</td>\n",
       "    </tr>\n",
       "    <tr>\n",
       "      <th>2</th>\n",
       "      <td>is pain experienced in a missing body part or ...</td>\n",
       "      <td>1</td>\n",
       "      <td>Phantom pain sensations are described as perce...</td>\n",
       "      <td>84</td>\n",
       "      <td>English</td>\n",
       "    </tr>\n",
       "  </tbody>\n",
       "</table>\n",
       "</div>"
      ],
      "text/plain": [
       "                                            question  answer  \\\n",
       "0   does ethanol take more energy make that produces       0   \n",
       "1             is house tax and property tax are same       1   \n",
       "2  is pain experienced in a missing body part or ...       1   \n",
       "\n",
       "                                             passage  passage_sequence_length  \\\n",
       "0  All biomass goes through at least some of thes...                      280   \n",
       "1  Property tax or 'house tax' is a local tax on ...                      299   \n",
       "2  Phantom pain sensations are described as perce...                       84   \n",
       "\n",
       "  language  \n",
       "0  English  \n",
       "1  English  \n",
       "2  English  "
      ]
     },
     "execution_count": 50,
     "metadata": {},
     "output_type": "execute_result"
    }
   ],
   "source": [
    "df_ = df.copy()\n",
    "\n",
    "df_['passage_sequence_length'] = df_['passage'].apply(lambda x: count_tokens(x))\n",
    "df_['answer'] = df_['answer'].apply(lambda x: 0 if x == False else 1)\n",
    "df_['language'] = 'English'\n",
    "\n",
    "df_.head(3)"
   ]
  },
  {
   "cell_type": "code",
   "execution_count": 51,
   "metadata": {},
   "outputs": [
    {
     "data": {
      "text/plain": [
       "count    3270.000000\n",
       "mean      138.120183\n",
       "std        77.831390\n",
       "min        16.000000\n",
       "25%        86.000000\n",
       "50%       123.000000\n",
       "75%       172.000000\n",
       "max      1114.000000\n",
       "Name: passage_sequence_length, dtype: float64"
      ]
     },
     "execution_count": 51,
     "metadata": {},
     "output_type": "execute_result"
    }
   ],
   "source": [
    "df_.passage_sequence_length.describe()"
   ]
  },
  {
   "cell_type": "code",
   "execution_count": 52,
   "metadata": {},
   "outputs": [
    {
     "data": {
      "text/html": [
       "<div>\n",
       "<style scoped>\n",
       "    .dataframe tbody tr th:only-of-type {\n",
       "        vertical-align: middle;\n",
       "    }\n",
       "\n",
       "    .dataframe tbody tr th {\n",
       "        vertical-align: top;\n",
       "    }\n",
       "\n",
       "    .dataframe thead th {\n",
       "        text-align: right;\n",
       "    }\n",
       "</style>\n",
       "<table border=\"1\" class=\"dataframe\">\n",
       "  <thead>\n",
       "    <tr style=\"text-align: right;\">\n",
       "      <th></th>\n",
       "      <th>question</th>\n",
       "      <th>answer</th>\n",
       "      <th>passage</th>\n",
       "      <th>passage_sequence_length</th>\n",
       "      <th>language</th>\n",
       "    </tr>\n",
       "  </thead>\n",
       "  <tbody>\n",
       "    <tr>\n",
       "      <th>3154</th>\n",
       "      <td>do you get overseas service bars for korea</td>\n",
       "      <td>1</td>\n",
       "      <td>19-28. Overseas service bars a. Authorized wea...</td>\n",
       "      <td>1114</td>\n",
       "      <td>English</td>\n",
       "    </tr>\n",
       "  </tbody>\n",
       "</table>\n",
       "</div>"
      ],
      "text/plain": [
       "                                        question  answer  \\\n",
       "3154  do you get overseas service bars for korea       1   \n",
       "\n",
       "                                                passage  \\\n",
       "3154  19-28. Overseas service bars a. Authorized wea...   \n",
       "\n",
       "      passage_sequence_length language  \n",
       "3154                     1114  English  "
      ]
     },
     "execution_count": 52,
     "metadata": {},
     "output_type": "execute_result"
    }
   ],
   "source": [
    "# due to our context lenght limitation, we'll be dropping this row.\n",
    "df_.query('passage_sequence_length > 1024')"
   ]
  },
  {
   "cell_type": "code",
   "execution_count": 53,
   "metadata": {},
   "outputs": [
    {
     "name": "stdout",
     "output_type": "stream",
     "text": [
      "<class 'pandas.core.frame.DataFrame'>\n",
      "RangeIndex: 3269 entries, 0 to 3268\n",
      "Data columns (total 5 columns):\n",
      " #   Column    Non-Null Count  Dtype \n",
      "---  ------    --------------  ----- \n",
      " 0   index     3269 non-null   int64 \n",
      " 1   passage   3269 non-null   object\n",
      " 2   question  3269 non-null   object\n",
      " 3   answer    3269 non-null   int64 \n",
      " 4   language  3269 non-null   object\n",
      "dtypes: int64(2), object(3)\n",
      "memory usage: 127.8+ KB\n"
     ]
    }
   ],
   "source": [
    "df_final = df_.query('passage_sequence_length <= 1024')[['passage', 'question', 'answer', 'language']]\n",
    "\n",
    "df_final.info()"
   ]
  },
  {
   "cell_type": "markdown",
   "metadata": {},
   "source": [
    "### 2.0 Generate Malay translated rows for dataset"
   ]
  },
  {
   "cell_type": "code",
   "execution_count": 54,
   "metadata": {},
   "outputs": [
    {
     "data": {
      "text/plain": [
       "\"All biomass goes through at least some of these steps: it needs to be grown, collected, dried, fermented, distilled, and burned. All of these steps require resources and an infrastructure. The total amount of energy input into the process compared to the energy released by burning the resulting ethanol fuel is known as the energy balance (or ``energy returned on energy invested''). Figures compiled in a 2007 report by National Geographic Magazine point to modest results for corn ethanol produced in the US: one unit of fossil-fuel energy is required to create 1.3 energy units from the resulting ethanol. The energy balance for sugarcane ethanol produced in Brazil is more favorable, with one unit of fossil-fuel energy required to create 8 from the ethanol. Energy balance estimates are not easily produced, thus numerous such reports have been generated that are contradictory. For instance, a separate survey reports that production of ethanol from sugarcane, which requires a tropical climate to grow productively, returns from 8 to 9 units of energy for each unit expended, as compared to corn, which only returns about 1.34 units of fuel energy for each unit of energy expended. A 2006 University of California Berkeley study, after analyzing six separate studies, concluded that producing ethanol from corn uses much less petroleum than producing gasoline.\""
      ]
     },
     "execution_count": 54,
     "metadata": {},
     "output_type": "execute_result"
    }
   ],
   "source": [
    "df_final.passage.loc[0]"
   ]
  },
  {
   "cell_type": "code",
   "execution_count": 36,
   "metadata": {},
   "outputs": [
    {
     "data": {
      "text/plain": [
       "'Semua biomas melalui sekurang-kurangnya beberapa langkah ini: ia perlu ditanam, dikumpulkan, dikeringkan, ditapai, disuling, dan dibakar. Semua langkah ini memerlukan sumber dan infrastruktur. Jumlah input tenaga ke dalam proses berbanding tenaga yang dikeluarkan dengan membakar bahan bakar etanol yang dihasilkan dikenali sebagai keseimbangan tenaga (atau \"tenaga dikembalikan pada tenaga yang dilaburkan\"). Angka yang disusun dalam laporan 2007 oleh National Geographic Magazine menunjukkan hasil sederhana untuk etanol jagung yang dihasilkan di AS: satu unit tenaga bahan bakar fosil diperlukan untuk membuat 1.3 unit tenaga dari etanol yang dihasilkan. Baki tenaga untuk etanol tebu yang dihasilkan di Brazil lebih baik, dengan satu unit tenaga bahan bakar fosil diperlukan untuk menghasilkan 8 dari etanol. Anggaran keseimbangan tenaga tidak dihasilkan dengan mudah, sehingga banyak laporan seperti itu dihasilkan yang bertentangan. Sebagai contoh, tinjauan berasingan melaporkan bahawa pengeluaran etanol dari tebu, yang memerlukan iklim tropika untuk tumbuh secara produktif, mengembalikan dari 8 hingga 9 unit tenaga untuk setiap unit yang dibelanjakan, berbanding jagung, yang hanya mengembalikan sekitar 1.34 unit tenaga bahan bakar untuk setiap unit yang dibelanjakan tenaga. Kajian University of California Berkeley pada tahun 2006, setelah menganalisis enam kajian berasingan, menyimpulkan bahawa menghasilkan etanol dari jagung menggunakan petroleum yang jauh lebih sedikit daripada menghasilkan petrol.'"
      ]
     },
     "execution_count": 36,
     "metadata": {},
     "output_type": "execute_result"
    }
   ],
   "source": [
    "# Let's translate one sample and compare with the English translation above.\n",
    "input_ids = tokenizer.encode(f'terjemah Inggeris ke Melayu: {df_final.passage.loc[0]}', return_tensors = 'pt').cuda()\n",
    "outputs = model.generate(input_ids, max_length = 4096)\n",
    "all_special_ids = [0, 1, 2]\n",
    "outputs = [i for i in outputs[0] if i not in all_special_ids]\n",
    "tokenizer.decode(outputs, spaces_between_special_tokens = False)"
   ]
  },
  {
   "cell_type": "code",
   "execution_count": 56,
   "metadata": {},
   "outputs": [],
   "source": [
    "# to take advantage of batch processing on GPU's, we save everything in lists first\n",
    "question_en = df_final['question'].to_list()\n",
    "passage_en = df_final['passage'].to_list()\n",
    "target = df_final['answer'].to_list()"
   ]
  },
  {
   "cell_type": "code",
   "execution_count": 57,
   "metadata": {},
   "outputs": [
    {
     "data": {
      "application/vnd.jupyter.widget-view+json": {
       "model_id": "145b7e2058bd4e04ae6c5ca9ae6dc074",
       "version_major": 2,
       "version_minor": 0
      },
      "text/plain": [
       "  0%|          | 0/654 [00:00<?, ?it/s]"
      ]
     },
     "metadata": {},
     "output_type": "display_data"
    }
   ],
   "source": [
    "passage_my = []\n",
    "batch_size = 5\n",
    "\n",
    "with torch.no_grad():\n",
    "    \n",
    "    for i in tqdm(range(0, len(passage_en), batch_size)):\n",
    "        batch = passage_en[i:i+batch_size]\n",
    "        encodeds = [f'terjemah Inggeris ke Melayu: {row}' for row in batch]\n",
    "        \n",
    "        model_inputs = tokenizer(\n",
    "            encodeds,\n",
    "            padding=True,\n",
    "            truncation=True, # https://huggingface.co/docs/transformers/en/pad_truncation\n",
    "            max_length=1024, # https://huggingface.co/mesolitica/translation-t5-base-standard-bahasa-cased/blob/main/config.json\n",
    "            return_tensors=\"pt\",\n",
    "        ).to('cuda')\n",
    "\n",
    "        generated_ids = model.generate(**model_inputs, max_length = 4096)\n",
    "        decoded = tokenizer.batch_decode(\n",
    "            generated_ids,\n",
    "            spaces_between_special_tokens=True,\n",
    "            skip_special_tokens=True\n",
    "        )\n",
    "\n",
    "        for output in decoded:\n",
    "            passage_my.append(output)"
   ]
  },
  {
   "cell_type": "code",
   "execution_count": 58,
   "metadata": {},
   "outputs": [
    {
     "data": {
      "application/vnd.jupyter.widget-view+json": {
       "model_id": "18077fabe43c4a918c59785d2baea084",
       "version_major": 2,
       "version_minor": 0
      },
      "text/plain": [
       "  0%|          | 0/164 [00:00<?, ?it/s]"
      ]
     },
     "metadata": {},
     "output_type": "display_data"
    }
   ],
   "source": [
    "question_my = []\n",
    "batch_size = 20\n",
    "\n",
    "with torch.no_grad():\n",
    "    \n",
    "    for i in tqdm(range(0, len(question_en), batch_size)):\n",
    "        batch = question_en[i:i+batch_size]\n",
    "        encodeds = [f'terjemah Inggeris ke Melayu: {row}' for row in batch]\n",
    "        \n",
    "        model_inputs = tokenizer(\n",
    "            encodeds,\n",
    "            padding=True,\n",
    "            truncation=True,\n",
    "            max_length=1024,\n",
    "            return_tensors=\"pt\",\n",
    "        ).to('cuda')\n",
    "\n",
    "        generated_ids = model.generate(**model_inputs, max_length = 4096)\n",
    "        decoded = tokenizer.batch_decode(\n",
    "            generated_ids,\n",
    "            spaces_between_special_tokens=True,\n",
    "            skip_special_tokens=True\n",
    "        )\n",
    "\n",
    "        for output in decoded:\n",
    "            question_my.append(output)"
   ]
  },
  {
   "cell_type": "code",
   "execution_count": 59,
   "metadata": {},
   "outputs": [
    {
     "data": {
      "text/html": [
       "<div>\n",
       "<style scoped>\n",
       "    .dataframe tbody tr th:only-of-type {\n",
       "        vertical-align: middle;\n",
       "    }\n",
       "\n",
       "    .dataframe tbody tr th {\n",
       "        vertical-align: top;\n",
       "    }\n",
       "\n",
       "    .dataframe thead th {\n",
       "        text-align: right;\n",
       "    }\n",
       "</style>\n",
       "<table border=\"1\" class=\"dataframe\">\n",
       "  <thead>\n",
       "    <tr style=\"text-align: right;\">\n",
       "      <th></th>\n",
       "      <th>passage</th>\n",
       "      <th>question</th>\n",
       "      <th>answer</th>\n",
       "      <th>language</th>\n",
       "    </tr>\n",
       "  </thead>\n",
       "  <tbody>\n",
       "    <tr>\n",
       "      <th>0</th>\n",
       "      <td>Semua biomas melalui sekurang-kurangnya bebera...</td>\n",
       "      <td>adakah etanol mengambil lebih banyak tenaga ya...</td>\n",
       "      <td>0</td>\n",
       "      <td>Malay</td>\n",
       "    </tr>\n",
       "    <tr>\n",
       "      <th>1</th>\n",
       "      <td>Cukai harta tanah atau 'cukai rumah' adalah cu...</td>\n",
       "      <td>adalah cukai rumah dan cukai harta tanah sama</td>\n",
       "      <td>1</td>\n",
       "      <td>Malay</td>\n",
       "    </tr>\n",
       "    <tr>\n",
       "      <th>2</th>\n",
       "      <td>Sensasi kesakitan hantu digambarkan sebagai pe...</td>\n",
       "      <td>adalah kesakitan yang dialami di bahagian bada...</td>\n",
       "      <td>1</td>\n",
       "      <td>Malay</td>\n",
       "    </tr>\n",
       "  </tbody>\n",
       "</table>\n",
       "</div>"
      ],
      "text/plain": [
       "                                             passage  \\\n",
       "0  Semua biomas melalui sekurang-kurangnya bebera...   \n",
       "1  Cukai harta tanah atau 'cukai rumah' adalah cu...   \n",
       "2  Sensasi kesakitan hantu digambarkan sebagai pe...   \n",
       "\n",
       "                                            question  answer language  \n",
       "0  adakah etanol mengambil lebih banyak tenaga ya...       0    Malay  \n",
       "1      adalah cukai rumah dan cukai harta tanah sama       1    Malay  \n",
       "2  adalah kesakitan yang dialami di bahagian bada...       1    Malay  "
      ]
     },
     "execution_count": 59,
     "metadata": {},
     "output_type": "execute_result"
    }
   ],
   "source": [
    "df_malay = pd.DataFrame({\n",
    "    'passage': passage_my,\n",
    "    'question': question_my,\n",
    "    'answer': target,\n",
    "    'language': 'Malay',\n",
    "})\n",
    "\n",
    "df_malay.head(3)"
   ]
  },
  {
   "cell_type": "code",
   "execution_count": 65,
   "metadata": {},
   "outputs": [
    {
     "name": "stdout",
     "output_type": "stream",
     "text": [
      "Num. rows in final dataset: 6538\n"
     ]
    },
    {
     "data": {
      "text/html": [
       "<div>\n",
       "<style scoped>\n",
       "    .dataframe tbody tr th:only-of-type {\n",
       "        vertical-align: middle;\n",
       "    }\n",
       "\n",
       "    .dataframe tbody tr th {\n",
       "        vertical-align: top;\n",
       "    }\n",
       "\n",
       "    .dataframe thead th {\n",
       "        text-align: right;\n",
       "    }\n",
       "</style>\n",
       "<table border=\"1\" class=\"dataframe\">\n",
       "  <thead>\n",
       "    <tr style=\"text-align: right;\">\n",
       "      <th></th>\n",
       "      <th>passage</th>\n",
       "      <th>question</th>\n",
       "      <th>answer</th>\n",
       "      <th>language</th>\n",
       "    </tr>\n",
       "  </thead>\n",
       "  <tbody>\n",
       "    <tr>\n",
       "      <th>0</th>\n",
       "      <td>Semua biomas melalui sekurang-kurangnya bebera...</td>\n",
       "      <td>adakah etanol mengambil lebih banyak tenaga ya...</td>\n",
       "      <td>0</td>\n",
       "      <td>Malay</td>\n",
       "    </tr>\n",
       "    <tr>\n",
       "      <th>1</th>\n",
       "      <td>Cukai harta tanah atau 'cukai rumah' adalah cu...</td>\n",
       "      <td>adalah cukai rumah dan cukai harta tanah sama</td>\n",
       "      <td>1</td>\n",
       "      <td>Malay</td>\n",
       "    </tr>\n",
       "    <tr>\n",
       "      <th>2</th>\n",
       "      <td>Sensasi kesakitan hantu digambarkan sebagai pe...</td>\n",
       "      <td>adalah kesakitan yang dialami di bahagian bada...</td>\n",
       "      <td>1</td>\n",
       "      <td>Malay</td>\n",
       "    </tr>\n",
       "  </tbody>\n",
       "</table>\n",
       "</div>"
      ],
      "text/plain": [
       "                                             passage  \\\n",
       "0  Semua biomas melalui sekurang-kurangnya bebera...   \n",
       "1  Cukai harta tanah atau 'cukai rumah' adalah cu...   \n",
       "2  Sensasi kesakitan hantu digambarkan sebagai pe...   \n",
       "\n",
       "                                            question  answer language  \n",
       "0  adakah etanol mengambil lebih banyak tenaga ya...       0    Malay  \n",
       "1      adalah cukai rumah dan cukai harta tanah sama       1    Malay  \n",
       "2  adalah kesakitan yang dialami di bahagian bada...       1    Malay  "
      ]
     },
     "execution_count": 65,
     "metadata": {},
     "output_type": "execute_result"
    }
   ],
   "source": [
    "df_both = pd.concat([df_malay, df_final[['passage', 'question', 'answer', 'language']]], axis=0)\n",
    "\n",
    "print(f'Num. rows in final dataset: {len(df_both)}')\n",
    "df_both.head(3)"
   ]
  },
  {
   "cell_type": "code",
   "execution_count": 66,
   "metadata": {},
   "outputs": [],
   "source": [
    "df_both['split'] = 'validation'\n",
    "\n",
    "df_both.to_json('../datasets/boolq-validation.jsonl', orient='records', lines=True)"
   ]
  },
  {
   "cell_type": "markdown",
   "metadata": {},
   "source": [
    "### 3.0 Upload to Huggingface"
   ]
  },
  {
   "cell_type": "code",
   "execution_count": 62,
   "metadata": {},
   "outputs": [
    {
     "data": {
      "text/plain": [
       "Index(['passage', 'question', 'answer', 'language', 'index'], dtype='object')"
      ]
     },
     "execution_count": 62,
     "metadata": {},
     "output_type": "execute_result"
    }
   ],
   "source": [
    "df_both.columns"
   ]
  },
  {
   "cell_type": "code",
   "execution_count": null,
   "metadata": {},
   "outputs": [],
   "source": [
    "file_name = '../datasets/boolq-validation.jsonl'"
   ]
  },
  {
   "cell_type": "code",
   "execution_count": 67,
   "metadata": {},
   "outputs": [
    {
     "data": {
      "text/plain": [
       "CommitInfo(commit_url='https://huggingface.co/datasets/wanadzhar913/boolq-malay/commit/b5b6b9b58b477273978e8ed2f57304d069432f87', commit_message='Upload boolq-validation.jsonl with huggingface_hub', commit_description='', oid='b5b6b9b58b477273978e8ed2f57304d069432f87', pr_url=None, repo_url=RepoUrl('https://huggingface.co/datasets/wanadzhar913/boolq-malay', endpoint='https://huggingface.co', repo_type='dataset', repo_id='wanadzhar913/boolq-malay'), pr_revision=None, pr_num=None)"
      ]
     },
     "execution_count": 67,
     "metadata": {},
     "output_type": "execute_result"
    }
   ],
   "source": [
    "api.upload_file(\n",
    "    path_or_fileobj=file_name,\n",
    "    path_in_repo=file_name.split(\"/\")[2],\n",
    "    repo_id=\"wanadzhar913/boolq-malay\",\n",
    "    repo_type=\"dataset\",\n",
    ")"
   ]
  }
 ],
 "metadata": {
  "kernelspec": {
   "display_name": ".env",
   "language": "python",
   "name": "python3"
  },
  "language_info": {
   "codemirror_mode": {
    "name": "ipython",
    "version": 3
   },
   "file_extension": ".py",
   "mimetype": "text/x-python",
   "name": "python",
   "nbconvert_exporter": "python",
   "pygments_lexer": "ipython3",
   "version": "3.11.0rc1"
  }
 },
 "nbformat": 4,
 "nbformat_minor": 2
}
