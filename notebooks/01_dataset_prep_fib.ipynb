{
 "cells": [
  {
   "cell_type": "code",
   "execution_count": 1,
   "metadata": {},
   "outputs": [],
   "source": [
    "import pandas as pd\n",
    "from tqdm.notebook import tqdm\n",
    "from datasets import load_dataset\n",
    "from huggingface_hub import HfApi, login\n",
    "from sklearn.model_selection import train_test_split\n",
    "\n",
    "import torch\n",
    "from transformers import T5Tokenizer, T5ForConditionalGeneration"
   ]
  },
  {
   "cell_type": "code",
   "execution_count": 2,
   "metadata": {},
   "outputs": [
    {
     "name": "stdout",
     "output_type": "stream",
     "text": [
      "The token has not been saved to the git credentials helper. Pass `add_to_git_credential=True` in this function directly or `--add-to-git-credential` if using via `huggingface-cli` if you want to set the git credential as well.\n",
      "Token is valid (permission: fineGrained).\n",
      "Your token has been saved to /home/faiq0913/.cache/huggingface/token\n",
      "Login successful\n"
     ]
    }
   ],
   "source": [
    "# set login credentials for Huggingface\n",
    "login('')\n",
    "\n",
    "api = HfApi()"
   ]
  },
  {
   "cell_type": "code",
   "execution_count": 3,
   "metadata": {},
   "outputs": [
    {
     "name": "stderr",
     "output_type": "stream",
     "text": [
      "You are using the default legacy behaviour of the <class 'transformers.models.t5.tokenization_t5.T5Tokenizer'>. This is expected, and simply means that the `legacy` (previous) behavior will be used so nothing changes for you. If you want to use the new behaviour, set `legacy=False`. This should only be set if you understand what it means, and thoroughly read the reason why this was added as explained in https://github.com/huggingface/transformers/pull/24565\n"
     ]
    }
   ],
   "source": [
    "# load model for translations\n",
    "tokenizer = T5Tokenizer.from_pretrained('mesolitica/t5-base-standard-bahasa-cased')\n",
    "model = T5ForConditionalGeneration.from_pretrained('mesolitica/t5-base-standard-bahasa-cased').eval().cuda()"
   ]
  },
  {
   "cell_type": "code",
   "execution_count": 4,
   "metadata": {},
   "outputs": [
    {
     "name": "stdout",
     "output_type": "stream",
     "text": [
      "Sat Oct 12 18:27:07 2024       \n",
      "+-----------------------------------------------------------------------------------------+\n",
      "| NVIDIA-SMI 555.52.01              Driver Version: 555.99         CUDA Version: 12.5     |\n",
      "|-----------------------------------------+------------------------+----------------------+\n",
      "| GPU  Name                 Persistence-M | Bus-Id          Disp.A | Volatile Uncorr. ECC |\n",
      "| Fan  Temp   Perf          Pwr:Usage/Cap |           Memory-Usage | GPU-Util  Compute M. |\n",
      "|                                         |                        |               MIG M. |\n",
      "|=========================================+========================+======================|\n",
      "|   0  NVIDIA GeForce RTX 4050 ...    On  |   00000000:01:00.0 Off |                  N/A |\n",
      "| N/A   52C    P3              9W /   39W |    1017MiB /   6141MiB |      7%      Default |\n",
      "|                                         |                        |                  N/A |\n",
      "+-----------------------------------------+------------------------+----------------------+\n",
      "                                                                                         \n",
      "+-----------------------------------------------------------------------------------------+\n",
      "| Processes:                                                                              |\n",
      "|  GPU   GI   CI        PID   Type   Process name                              GPU Memory |\n",
      "|        ID   ID                                                               Usage      |\n",
      "|=========================================================================================|\n",
      "|    0   N/A  N/A    304026      C   /python3.11                                 N/A      |\n",
      "+-----------------------------------------------------------------------------------------+\n"
     ]
    }
   ],
   "source": [
    "!nvidia-smi"
   ]
  },
  {
   "cell_type": "markdown",
   "metadata": {},
   "source": [
    "### 1.0 Load, explore & clean FIB dataset"
   ]
  },
  {
   "cell_type": "code",
   "execution_count": 5,
   "metadata": {},
   "outputs": [
    {
     "name": "stderr",
     "output_type": "stream",
     "text": [
      "Repo card metadata block was not found. Setting CardData to empty.\n"
     ]
    }
   ],
   "source": [
    "ds = load_dataset('r-three/fib', split='test')\n",
    "df = ds.to_pandas()"
   ]
  },
  {
   "cell_type": "code",
   "execution_count": 6,
   "metadata": {},
   "outputs": [
    {
     "data": {
      "text/html": [
       "<div>\n",
       "<style scoped>\n",
       "    .dataframe tbody tr th:only-of-type {\n",
       "        vertical-align: middle;\n",
       "    }\n",
       "\n",
       "    .dataframe tbody tr th {\n",
       "        vertical-align: top;\n",
       "    }\n",
       "\n",
       "    .dataframe thead th {\n",
       "        text-align: right;\n",
       "    }\n",
       "</style>\n",
       "<table border=\"1\" class=\"dataframe\">\n",
       "  <thead>\n",
       "    <tr style=\"text-align: right;\">\n",
       "      <th></th>\n",
       "      <th>id</th>\n",
       "      <th>input</th>\n",
       "      <th>correct_choice</th>\n",
       "      <th>list_choices</th>\n",
       "      <th>lbl</th>\n",
       "      <th>distractor_model</th>\n",
       "      <th>dataset</th>\n",
       "    </tr>\n",
       "  </thead>\n",
       "  <tbody>\n",
       "    <tr>\n",
       "      <th>0</th>\n",
       "      <td>32168497</td>\n",
       "      <td>Vehicles and pedestrians will now embark and d...</td>\n",
       "      <td>Passengers using a chain ferry have been warne...</td>\n",
       "      <td>[ A new service on the Isle of Wight's chain f...</td>\n",
       "      <td>1</td>\n",
       "      <td>bart-base</td>\n",
       "      <td>xsum</td>\n",
       "    </tr>\n",
       "    <tr>\n",
       "      <th>1</th>\n",
       "      <td>29610109</td>\n",
       "      <td>If you leave your mobile phone somewhere do yo...</td>\n",
       "      <td>Do you ever feel lonely, stressed or jealous w...</td>\n",
       "      <td>[ You may be worried about your health, but wh...</td>\n",
       "      <td>1</td>\n",
       "      <td>bart-base</td>\n",
       "      <td>xsum</td>\n",
       "    </tr>\n",
       "    <tr>\n",
       "      <th>2</th>\n",
       "      <td>38018439</td>\n",
       "      <td>Speaking on TV, Maria Zakharova said Jews had ...</td>\n",
       "      <td>A spokeswoman on Russian TV has said Jewish pe...</td>\n",
       "      <td>[ The Russian foreign minister has said she ha...</td>\n",
       "      <td>1</td>\n",
       "      <td>bart-base</td>\n",
       "      <td>xsum</td>\n",
       "    </tr>\n",
       "  </tbody>\n",
       "</table>\n",
       "</div>"
      ],
      "text/plain": [
       "         id                                              input  \\\n",
       "0  32168497  Vehicles and pedestrians will now embark and d...   \n",
       "1  29610109  If you leave your mobile phone somewhere do yo...   \n",
       "2  38018439  Speaking on TV, Maria Zakharova said Jews had ...   \n",
       "\n",
       "                                      correct_choice  \\\n",
       "0  Passengers using a chain ferry have been warne...   \n",
       "1  Do you ever feel lonely, stressed or jealous w...   \n",
       "2  A spokeswoman on Russian TV has said Jewish pe...   \n",
       "\n",
       "                                        list_choices  lbl distractor_model  \\\n",
       "0  [ A new service on the Isle of Wight's chain f...    1        bart-base   \n",
       "1  [ You may be worried about your health, but wh...    1        bart-base   \n",
       "2  [ The Russian foreign minister has said she ha...    1        bart-base   \n",
       "\n",
       "  dataset  \n",
       "0    xsum  \n",
       "1    xsum  \n",
       "2    xsum  "
      ]
     },
     "execution_count": 6,
     "metadata": {},
     "output_type": "execute_result"
    }
   ],
   "source": [
    "df.head(3)"
   ]
  },
  {
   "cell_type": "code",
   "execution_count": 7,
   "metadata": {},
   "outputs": [
    {
     "name": "stdout",
     "output_type": "stream",
     "text": [
      "<class 'pandas.core.frame.DataFrame'>\n",
      "RangeIndex: 3579 entries, 0 to 3578\n",
      "Data columns (total 7 columns):\n",
      " #   Column            Non-Null Count  Dtype \n",
      "---  ------            --------------  ----- \n",
      " 0   id                3579 non-null   object\n",
      " 1   input             3579 non-null   object\n",
      " 2   correct_choice    3579 non-null   object\n",
      " 3   list_choices      3579 non-null   object\n",
      " 4   lbl               3579 non-null   int64 \n",
      " 5   distractor_model  3579 non-null   object\n",
      " 6   dataset           3579 non-null   object\n",
      "dtypes: int64(1), object(6)\n",
      "memory usage: 195.9+ KB\n"
     ]
    }
   ],
   "source": [
    "df.info()"
   ]
  },
  {
   "cell_type": "code",
   "execution_count": 8,
   "metadata": {},
   "outputs": [
    {
     "data": {
      "text/plain": [
       "dataset\n",
       "xsum      0.872311\n",
       "cnn_dm    0.127689\n",
       "Name: proportion, dtype: float64"
      ]
     },
     "execution_count": 8,
     "metadata": {},
     "output_type": "execute_result"
    }
   ],
   "source": [
    "df.dataset.value_counts(normalize=True)"
   ]
  },
  {
   "cell_type": "code",
   "execution_count": 9,
   "metadata": {},
   "outputs": [
    {
     "data": {
      "text/plain": [
       "'Vehicles and pedestrians will now embark and disembark the Cowes ferry separately following Maritime and Coastguard Agency (MCA) guidance.\\nIsle of Wight Council said its new procedures were in response to a resident\\'s complaint.\\nCouncillor Shirley Smart said it would \"initially result in a slower service\".\\nOriginally passengers and vehicles boarded or disembarked the so called \"floating bridge\" at the same time.\\nMs Smart, who is the executive member for economy and tourism, said the council already had measures in place to control how passengers and vehicles left or embarked the chain ferry \"in a safe manner\".\\nHowever, it was \"responding\" to the MCA\\'s recommendations \"following this complaint\".\\nShe added: \"This may initially result in a slower service while the measures are introduced and our customers get used to the changes.\"\\nThe service has been in operation since 1859.'"
      ]
     },
     "execution_count": 9,
     "metadata": {},
     "output_type": "execute_result"
    }
   ],
   "source": [
    "df.iloc[0].input"
   ]
  },
  {
   "cell_type": "code",
   "execution_count": 10,
   "metadata": {},
   "outputs": [
    {
     "data": {
      "text/plain": [
       "array([\" A new service on the Isle of Wight's chain ferry has been launched following a complaint from a resident.\",\n",
       "       'Passengers using a chain ferry have been warned crossing times will be longer because of new safety measures.'],\n",
       "      dtype=object)"
      ]
     },
     "execution_count": 10,
     "metadata": {},
     "output_type": "execute_result"
    }
   ],
   "source": [
    "df.iloc[0].list_choices"
   ]
  },
  {
   "cell_type": "code",
   "execution_count": 11,
   "metadata": {},
   "outputs": [],
   "source": [
    "# Each list choice contains a positive and negative summary; we'll explode & clean\n",
    "df_ = df.explode('list_choices')\n",
    "df_['list_choices'] = df_['list_choices'].apply(lambda x: x.strip())"
   ]
  },
  {
   "cell_type": "markdown",
   "metadata": {},
   "source": [
    "There seems to be similar input texts in the *input* column. A quick check yields that the correct choices get duplicated many times in the *list_choices* column. We'll need to handle this."
   ]
  },
  {
   "cell_type": "code",
   "execution_count": 12,
   "metadata": {},
   "outputs": [
    {
     "data": {
      "text/html": [
       "<div>\n",
       "<style scoped>\n",
       "    .dataframe tbody tr th:only-of-type {\n",
       "        vertical-align: middle;\n",
       "    }\n",
       "\n",
       "    .dataframe tbody tr th {\n",
       "        vertical-align: top;\n",
       "    }\n",
       "\n",
       "    .dataframe thead th {\n",
       "        text-align: right;\n",
       "    }\n",
       "</style>\n",
       "<table border=\"1\" class=\"dataframe\">\n",
       "  <thead>\n",
       "    <tr style=\"text-align: right;\">\n",
       "      <th></th>\n",
       "      <th>id</th>\n",
       "      <th>input</th>\n",
       "      <th>correct_choice</th>\n",
       "      <th>list_choices</th>\n",
       "      <th>lbl</th>\n",
       "      <th>distractor_model</th>\n",
       "      <th>dataset</th>\n",
       "    </tr>\n",
       "  </thead>\n",
       "  <tbody>\n",
       "    <tr>\n",
       "      <th>0</th>\n",
       "      <td>32168497</td>\n",
       "      <td>Vehicles and pedestrians will now embark and d...</td>\n",
       "      <td>Passengers using a chain ferry have been warne...</td>\n",
       "      <td>A new service on the Isle of Wight's chain fer...</td>\n",
       "      <td>1</td>\n",
       "      <td>bart-base</td>\n",
       "      <td>xsum</td>\n",
       "    </tr>\n",
       "    <tr>\n",
       "      <th>0</th>\n",
       "      <td>32168497</td>\n",
       "      <td>Vehicles and pedestrians will now embark and d...</td>\n",
       "      <td>Passengers using a chain ferry have been warne...</td>\n",
       "      <td>Passengers using a chain ferry have been warne...</td>\n",
       "      <td>1</td>\n",
       "      <td>bart-base</td>\n",
       "      <td>xsum</td>\n",
       "    </tr>\n",
       "    <tr>\n",
       "      <th>463</th>\n",
       "      <td>32168497</td>\n",
       "      <td>Vehicles and pedestrians will now embark and d...</td>\n",
       "      <td>Passengers using a chain ferry have been warne...</td>\n",
       "      <td>Passengers using a chain ferry have been warne...</td>\n",
       "      <td>0</td>\n",
       "      <td>bart-large</td>\n",
       "      <td>xsum</td>\n",
       "    </tr>\n",
       "    <tr>\n",
       "      <th>463</th>\n",
       "      <td>32168497</td>\n",
       "      <td>Vehicles and pedestrians will now embark and d...</td>\n",
       "      <td>Passengers using a chain ferry have been warne...</td>\n",
       "      <td>The Isle of Wight's \"floating bridge\" is to be...</td>\n",
       "      <td>0</td>\n",
       "      <td>bart-large</td>\n",
       "      <td>xsum</td>\n",
       "    </tr>\n",
       "    <tr>\n",
       "      <th>877</th>\n",
       "      <td>32168497</td>\n",
       "      <td>Vehicles and pedestrians will now embark and d...</td>\n",
       "      <td>Passengers using a chain ferry have been warne...</td>\n",
       "      <td>ferry services are run by the Cowes Ferry Comp...</td>\n",
       "      <td>1</td>\n",
       "      <td>bloom-560m</td>\n",
       "      <td>xsum</td>\n",
       "    </tr>\n",
       "    <tr>\n",
       "      <th>877</th>\n",
       "      <td>32168497</td>\n",
       "      <td>Vehicles and pedestrians will now embark and d...</td>\n",
       "      <td>Passengers using a chain ferry have been warne...</td>\n",
       "      <td>Passengers using a chain ferry have been warne...</td>\n",
       "      <td>1</td>\n",
       "      <td>bloom-560m</td>\n",
       "      <td>xsum</td>\n",
       "    </tr>\n",
       "    <tr>\n",
       "      <th>2639</th>\n",
       "      <td>32168497</td>\n",
       "      <td>Vehicles and pedestrians will now embark and d...</td>\n",
       "      <td>Passengers using a chain ferry have been warne...</td>\n",
       "      <td>A chain of chain ferry services in the Isle of...</td>\n",
       "      <td>1</td>\n",
       "      <td>t5-large</td>\n",
       "      <td>xsum</td>\n",
       "    </tr>\n",
       "    <tr>\n",
       "      <th>2639</th>\n",
       "      <td>32168497</td>\n",
       "      <td>Vehicles and pedestrians will now embark and d...</td>\n",
       "      <td>Passengers using a chain ferry have been warne...</td>\n",
       "      <td>Passengers using a chain ferry have been warne...</td>\n",
       "      <td>1</td>\n",
       "      <td>t5-large</td>\n",
       "      <td>xsum</td>\n",
       "    </tr>\n",
       "  </tbody>\n",
       "</table>\n",
       "</div>"
      ],
      "text/plain": [
       "            id                                              input  \\\n",
       "0     32168497  Vehicles and pedestrians will now embark and d...   \n",
       "0     32168497  Vehicles and pedestrians will now embark and d...   \n",
       "463   32168497  Vehicles and pedestrians will now embark and d...   \n",
       "463   32168497  Vehicles and pedestrians will now embark and d...   \n",
       "877   32168497  Vehicles and pedestrians will now embark and d...   \n",
       "877   32168497  Vehicles and pedestrians will now embark and d...   \n",
       "2639  32168497  Vehicles and pedestrians will now embark and d...   \n",
       "2639  32168497  Vehicles and pedestrians will now embark and d...   \n",
       "\n",
       "                                         correct_choice  \\\n",
       "0     Passengers using a chain ferry have been warne...   \n",
       "0     Passengers using a chain ferry have been warne...   \n",
       "463   Passengers using a chain ferry have been warne...   \n",
       "463   Passengers using a chain ferry have been warne...   \n",
       "877   Passengers using a chain ferry have been warne...   \n",
       "877   Passengers using a chain ferry have been warne...   \n",
       "2639  Passengers using a chain ferry have been warne...   \n",
       "2639  Passengers using a chain ferry have been warne...   \n",
       "\n",
       "                                           list_choices  lbl distractor_model  \\\n",
       "0     A new service on the Isle of Wight's chain fer...    1        bart-base   \n",
       "0     Passengers using a chain ferry have been warne...    1        bart-base   \n",
       "463   Passengers using a chain ferry have been warne...    0       bart-large   \n",
       "463   The Isle of Wight's \"floating bridge\" is to be...    0       bart-large   \n",
       "877   ferry services are run by the Cowes Ferry Comp...    1       bloom-560m   \n",
       "877   Passengers using a chain ferry have been warne...    1       bloom-560m   \n",
       "2639  A chain of chain ferry services in the Isle of...    1         t5-large   \n",
       "2639  Passengers using a chain ferry have been warne...    1         t5-large   \n",
       "\n",
       "     dataset  \n",
       "0       xsum  \n",
       "0       xsum  \n",
       "463     xsum  \n",
       "463     xsum  \n",
       "877     xsum  \n",
       "877     xsum  \n",
       "2639    xsum  \n",
       "2639    xsum  "
      ]
     },
     "execution_count": 12,
     "metadata": {},
     "output_type": "execute_result"
    }
   ],
   "source": [
    "# https://stackoverflow.com/questions/57297077/use-variable-in-pandas-query\n",
    "df_.query('input == @df_.iloc[0].input')"
   ]
  },
  {
   "cell_type": "code",
   "execution_count": 13,
   "metadata": {},
   "outputs": [
    {
     "name": "stdout",
     "output_type": "stream",
     "text": [
      "Num. rows before drop duplicates: 7158\n",
      "Num. rows after drop duplicates: 4081\n"
     ]
    },
    {
     "data": {
      "text/html": [
       "<div>\n",
       "<style scoped>\n",
       "    .dataframe tbody tr th:only-of-type {\n",
       "        vertical-align: middle;\n",
       "    }\n",
       "\n",
       "    .dataframe tbody tr th {\n",
       "        vertical-align: top;\n",
       "    }\n",
       "\n",
       "    .dataframe thead th {\n",
       "        text-align: right;\n",
       "    }\n",
       "</style>\n",
       "<table border=\"1\" class=\"dataframe\">\n",
       "  <thead>\n",
       "    <tr style=\"text-align: right;\">\n",
       "      <th></th>\n",
       "      <th>input</th>\n",
       "      <th>list_choices</th>\n",
       "      <th>correct_choice</th>\n",
       "    </tr>\n",
       "  </thead>\n",
       "  <tbody>\n",
       "    <tr>\n",
       "      <th>0</th>\n",
       "      <td>Vehicles and pedestrians will now embark and d...</td>\n",
       "      <td>A new service on the Isle of Wight's chain fer...</td>\n",
       "      <td>Passengers using a chain ferry have been warne...</td>\n",
       "    </tr>\n",
       "    <tr>\n",
       "      <th>0</th>\n",
       "      <td>Vehicles and pedestrians will now embark and d...</td>\n",
       "      <td>Passengers using a chain ferry have been warne...</td>\n",
       "      <td>Passengers using a chain ferry have been warne...</td>\n",
       "    </tr>\n",
       "    <tr>\n",
       "      <th>1</th>\n",
       "      <td>If you leave your mobile phone somewhere do yo...</td>\n",
       "      <td>You may be worried about your health, but what...</td>\n",
       "      <td>Do you ever feel lonely, stressed or jealous w...</td>\n",
       "    </tr>\n",
       "    <tr>\n",
       "      <th>1</th>\n",
       "      <td>If you leave your mobile phone somewhere do yo...</td>\n",
       "      <td>Do you ever feel lonely, stressed or jealous w...</td>\n",
       "      <td>Do you ever feel lonely, stressed or jealous w...</td>\n",
       "    </tr>\n",
       "    <tr>\n",
       "      <th>2</th>\n",
       "      <td>Speaking on TV, Maria Zakharova said Jews had ...</td>\n",
       "      <td>The Russian foreign minister has said she has ...</td>\n",
       "      <td>A spokeswoman on Russian TV has said Jewish pe...</td>\n",
       "    </tr>\n",
       "  </tbody>\n",
       "</table>\n",
       "</div>"
      ],
      "text/plain": [
       "                                               input  \\\n",
       "0  Vehicles and pedestrians will now embark and d...   \n",
       "0  Vehicles and pedestrians will now embark and d...   \n",
       "1  If you leave your mobile phone somewhere do yo...   \n",
       "1  If you leave your mobile phone somewhere do yo...   \n",
       "2  Speaking on TV, Maria Zakharova said Jews had ...   \n",
       "\n",
       "                                        list_choices  \\\n",
       "0  A new service on the Isle of Wight's chain fer...   \n",
       "0  Passengers using a chain ferry have been warne...   \n",
       "1  You may be worried about your health, but what...   \n",
       "1  Do you ever feel lonely, stressed or jealous w...   \n",
       "2  The Russian foreign minister has said she has ...   \n",
       "\n",
       "                                      correct_choice  \n",
       "0  Passengers using a chain ferry have been warne...  \n",
       "0  Passengers using a chain ferry have been warne...  \n",
       "1  Do you ever feel lonely, stressed or jealous w...  \n",
       "1  Do you ever feel lonely, stressed or jealous w...  \n",
       "2  A spokeswoman on Russian TV has said Jewish pe...  "
      ]
     },
     "execution_count": 13,
     "metadata": {},
     "output_type": "execute_result"
    }
   ],
   "source": [
    "print(f'Num. rows before drop duplicates: {len(df_)}')\n",
    "df_ = df_.drop_duplicates(subset=['input', 'list_choices'])\n",
    "print(f'Num. rows after drop duplicates: {len(df_)}')\n",
    "\n",
    "df_[['input', 'list_choices', 'correct_choice']].head(5)"
   ]
  },
  {
   "cell_type": "code",
   "execution_count": 14,
   "metadata": {},
   "outputs": [
    {
     "data": {
      "text/html": [
       "<div>\n",
       "<style scoped>\n",
       "    .dataframe tbody tr th:only-of-type {\n",
       "        vertical-align: middle;\n",
       "    }\n",
       "\n",
       "    .dataframe tbody tr th {\n",
       "        vertical-align: top;\n",
       "    }\n",
       "\n",
       "    .dataframe thead th {\n",
       "        text-align: right;\n",
       "    }\n",
       "</style>\n",
       "<table border=\"1\" class=\"dataframe\">\n",
       "  <thead>\n",
       "    <tr style=\"text-align: right;\">\n",
       "      <th></th>\n",
       "      <th>input</th>\n",
       "      <th>list_choices</th>\n",
       "      <th>target</th>\n",
       "    </tr>\n",
       "  </thead>\n",
       "  <tbody>\n",
       "    <tr>\n",
       "      <th>0</th>\n",
       "      <td>Vehicles and pedestrians will now embark and d...</td>\n",
       "      <td>A new service on the Isle of Wight's chain fer...</td>\n",
       "      <td>0</td>\n",
       "    </tr>\n",
       "    <tr>\n",
       "      <th>0</th>\n",
       "      <td>Vehicles and pedestrians will now embark and d...</td>\n",
       "      <td>Passengers using a chain ferry have been warne...</td>\n",
       "      <td>1</td>\n",
       "    </tr>\n",
       "    <tr>\n",
       "      <th>1</th>\n",
       "      <td>If you leave your mobile phone somewhere do yo...</td>\n",
       "      <td>You may be worried about your health, but what...</td>\n",
       "      <td>0</td>\n",
       "    </tr>\n",
       "  </tbody>\n",
       "</table>\n",
       "</div>"
      ],
      "text/plain": [
       "                                               input  \\\n",
       "0  Vehicles and pedestrians will now embark and d...   \n",
       "0  Vehicles and pedestrians will now embark and d...   \n",
       "1  If you leave your mobile phone somewhere do yo...   \n",
       "\n",
       "                                        list_choices  target  \n",
       "0  A new service on the Isle of Wight's chain fer...       0  \n",
       "0  Passengers using a chain ferry have been warne...       1  \n",
       "1  You may be worried about your health, but what...       0  "
      ]
     },
     "execution_count": 14,
     "metadata": {},
     "output_type": "execute_result"
    }
   ],
   "source": [
    "# Create labels where factually consistent (1) and factually inconsistent/contradicting (0)\n",
    "df_.loc[df_['correct_choice'] == df_['list_choices'], 'target'] = 1\n",
    "df_.loc[df_['correct_choice'] != df_['list_choices'], 'target'] = 0\n",
    "df_['target'] = df_['target'].astype(int)\n",
    "\n",
    "df_[['input', 'list_choices', 'target']].head(3)"
   ]
  },
  {
   "cell_type": "code",
   "execution_count": 15,
   "metadata": {},
   "outputs": [
    {
     "name": "stderr",
     "output_type": "stream",
     "text": [
      "/tmp/ipykernel_304026/2237090372.py:2: SettingWithCopyWarning: \n",
      "A value is trying to be set on a copy of a slice from a DataFrame.\n",
      "Try using .loc[row_indexer,col_indexer] = value instead\n",
      "\n",
      "See the caveats in the documentation: https://pandas.pydata.org/pandas-docs/stable/user_guide/indexing.html#returning-a-view-versus-a-copy\n",
      "  df_clean['language'] = 'English'\n"
     ]
    },
    {
     "data": {
      "text/html": [
       "<div>\n",
       "<style scoped>\n",
       "    .dataframe tbody tr th:only-of-type {\n",
       "        vertical-align: middle;\n",
       "    }\n",
       "\n",
       "    .dataframe tbody tr th {\n",
       "        vertical-align: top;\n",
       "    }\n",
       "\n",
       "    .dataframe thead th {\n",
       "        text-align: right;\n",
       "    }\n",
       "</style>\n",
       "<table border=\"1\" class=\"dataframe\">\n",
       "  <thead>\n",
       "    <tr style=\"text-align: right;\">\n",
       "      <th></th>\n",
       "      <th>input</th>\n",
       "      <th>list_choices</th>\n",
       "      <th>target</th>\n",
       "      <th>language</th>\n",
       "    </tr>\n",
       "  </thead>\n",
       "  <tbody>\n",
       "    <tr>\n",
       "      <th>0</th>\n",
       "      <td>Vehicles and pedestrians will now embark and d...</td>\n",
       "      <td>A new service on the Isle of Wight's chain fer...</td>\n",
       "      <td>0</td>\n",
       "      <td>English</td>\n",
       "    </tr>\n",
       "    <tr>\n",
       "      <th>0</th>\n",
       "      <td>Vehicles and pedestrians will now embark and d...</td>\n",
       "      <td>Passengers using a chain ferry have been warne...</td>\n",
       "      <td>1</td>\n",
       "      <td>English</td>\n",
       "    </tr>\n",
       "    <tr>\n",
       "      <th>1</th>\n",
       "      <td>If you leave your mobile phone somewhere do yo...</td>\n",
       "      <td>You may be worried about your health, but what...</td>\n",
       "      <td>0</td>\n",
       "      <td>English</td>\n",
       "    </tr>\n",
       "  </tbody>\n",
       "</table>\n",
       "</div>"
      ],
      "text/plain": [
       "                                               input  \\\n",
       "0  Vehicles and pedestrians will now embark and d...   \n",
       "0  Vehicles and pedestrians will now embark and d...   \n",
       "1  If you leave your mobile phone somewhere do yo...   \n",
       "\n",
       "                                        list_choices  target language  \n",
       "0  A new service on the Isle of Wight's chain fer...       0  English  \n",
       "0  Passengers using a chain ferry have been warne...       1  English  \n",
       "1  You may be worried about your health, but what...       0  English  "
      ]
     },
     "execution_count": 15,
     "metadata": {},
     "output_type": "execute_result"
    }
   ],
   "source": [
    "df_clean = df_[['input', 'list_choices', 'target']]\n",
    "df_clean['language'] = 'English'\n",
    "\n",
    "df_clean.head(3)"
   ]
  },
  {
   "cell_type": "markdown",
   "metadata": {},
   "source": [
    "### 2.0 Generate Malay translated rows for dataset"
   ]
  },
  {
   "cell_type": "code",
   "execution_count": 16,
   "metadata": {},
   "outputs": [
    {
     "name": "stdout",
     "output_type": "stream",
     "text": [
      "( cnn ) five years after the deepwater horizon rig exploded and unleashed the largest marine oil spill in the nation 's history , we are still experiencing -- yet only beginning to truly understand -- its profound environmental and economic repercussions . the immediate aftermath of the oil spill has been well documented , with declines in tourism and the seafood industry , as well as the significant destruction of wildlife in the region . since then , the amount of oil in the area has dissipated and communities have started to show signs of recovery . in fact , reports indicate that the gulf of mexico 's seafood industry , which supplies the united states with roughly 40 % of its seafood , is finally starting to rebound . however , profound challenges remain , in part because so many questions about the long-term consequences remain unanswered . to this day , it 's still unclear where all of the oil went , exactly how much remains or whether the reappearance of wildlife is a result of adaptation or a signal that the crisis is truly abating . one of the populations that can provide insight into these questions is the gulf crab . crabs play an important role in the region : roughly 60 million pounds were fished in the gulf in 2012 , earning tens of millions in revenue . yet in the aftermath of the spill , changes to crustacean communities in the area were quite apparent to the naked eye . researchers documented substantial differences in appearance , and deformities in crabs that were affected by the spill including lesions so numerous they ate through the joints , forcing limbs to fall off . these traits have affected not only the crabs ' market value but also likely their ability to survive . while these changes in outward appearance have dissipated in the short-term , the health of these crabs could still be precarious . i have been working with colleagues at florida international university and university of louisiana at lafayette to better understand what might be happening biologically inside the crab when it is exposed to oil and the dispersant used to respond to the spill . using the power of genomics and computational biology , we analyzed the genes of flat back mud crabs that were exposed to oil from the macondo prospect where the deepwater horizon rig was drilling when it exploded or to a combination of oil and dispersant in the lab . by studying gene expression , the process that turns information from a gene into a product that functions within a cell , we searched for indicators that might signal exposure to oil and , based on the types of changes we might see , clues as to how the crabs respond . although we are still in the early stages of our research , we are seeing significant differences in gene expression connected to exposure -- meaning the crabs are turning some genes on or off in response to oil and dispersant . we are still working to determine whether these changes impact their ability to survive and reproduce . it 's not just gulf crabs that are experiencing changes . research on different species and other aspects of the regional environment is starting to show that there could be long-term effects resulting from the oil spill and the response to the spill . this not only has consequences for the gulf area , where oil drilling continues , but also for communities along the atlantic coast , where the obama administration has recently announced a plan to open unprecedented oil and natural gas exploration . ( bp 's vice president of communications , geoff morrell , told cnn that wildlife species in the gulf have `` bounced back and `` there is no data that suggests there are any long-term population-level impacts to any species . '' ) with the virtual certainty of more spills , we need a lot more information on the consequences of these disasters and how we can combat them effectively and efficiently . the u.s. department of the interior and the environmental protection agency are making some progress . in coming months , they are releasing changes to regulations and response plans based on the early lessons learned from the deepwater horizon spill . but government agencies can not just rely on the short-term data to determine the best response for the next oil spill crisis . instead , the government and oil companies should work together to support ongoing , long-term ecological research so that we have a better grasp of what `` normal '' looks like and what factors are important in maintaining those conditions even after a disastrous oil spill . only then will we truly understand the impact of offshore drilling and the best ways to respond to crises to protect our most important natural resources .\n"
     ]
    }
   ],
   "source": [
    "print(df_clean.input.loc[3541])"
   ]
  },
  {
   "cell_type": "code",
   "execution_count": 17,
   "metadata": {},
   "outputs": [
    {
     "data": {
      "text/plain": [
       "'(cnn) lima tahun setelah pelantar cakrawala air dalam meletup dan melepaskan tumpahan minyak laut terbesar dalam sejarah negara, kita masih mengalami - namun baru mula benar-benar memahami - kesan persekitaran dan ekonominya yang mendalam. sejurus selepas tumpahan minyak telah didokumentasikan dengan baik, dengan penurunan pelancongan dan industri makanan laut, serta kemusnahan hidupan liar yang ketara di rantau ini. sejak itu, jumlah minyak di kawasan itu hilang dan masyarakat telah mula menunjukkan tanda-tanda pemulihan. Sebenarnya, laporan menunjukkan bahawa jurang industri makanan laut mexico, yang membekalkan kira-kira 40% makanan lautnya, akhirnya mulai pulih. Namun, cabaran mendalam tetap ada, sebahagiannya kerana begitu banyak persoalan mengenai akibat jangka panjang tetap belum dijawab. hingga hari ini, masih belum jelas ke mana semua minyak pergi, berapa banyak yang tersisa atau apakah kemunculan semula hidupan liar adalah hasil penyesuaian atau isyarat bahawa krisis benar-benar mereda. salah satu populasi yang dapat memberikan gambaran mengenai persoalan ini adalah kepiting jurang. kepiting memainkan peranan penting di rantau ini: kira-kira 60 juta pound diternak di jurang pada tahun 2012, memperoleh puluhan juta pendapatan. namun selepas tumpahan, perubahan pada komuniti krustasea di kawasan itu cukup jelas pada mata kasar. para penyelidik mendokumentasikan perbezaan besar dalam penampilan, dan kecacatan pada kepiting yang terkena tumpahan termasuk luka yang begitu banyak sehingga mereka memakan sendi, memaksa anggota badan jatuh. sifat-sifat ini tidak hanya mempengaruhi nilai pasaran kepiting tetapi juga mungkin kemampuan mereka untuk bertahan hidup. walaupun perubahan penampilan luar ini telah hilang dalam jangka pendek, kesihatan kepiting ini masih boleh menjadi tidak menentu. saya telah bekerjasama dengan rakan sekerja di universiti antarabangsa florida dan universiti louisiana di lafayette untuk lebih memahami apa yang mungkin berlaku secara biologi di dalam kepiting ketika terkena minyak dan penyebaran yang digunakan untuk bertindak balas terhadap tumpahan. dengan mengkaji ekspresi gen, proses yang mengubah maklumat dari gen menjadi produk yang berfungsi dalam sel, kami mencari petunjuk yang mungkin memberi isyarat pendedahan kepada minyak dan penyebaran yang digunakan untuk bertindak balas terhadap tumpahan. ini bukan hanya mempengaruhi kepiting jurang yang mengalami perubahan. penyelidikan mengenai pelbagai spesies dan aspek lain dari persekitaran serantau mulai menunjukkan bahawa mungkin ada kesan jangka panjang yang disebabkan oleh tumpahan minyak dan tindak balas terhadap tumpahan. ini bukan hanya mempengaruhi kepiting jurang yang mengalami perubahan. penyelidikan mengenai pelbagai spesies dan aspek lain dari persekitaran serantau mulai menunjukkan bahawa mungkin ada kesan jangka panjang yang disebabkan oleh tumpahan minyak dan tindak balas terhadap tumpahan. sebaliknya, kerajaan dan syarikat minyak harus bekerjasama untuk menyokong penyelidikan ekologi jangka panjang yang berterusan sehingga kita dapat memahami dengan lebih baik seperti apa yang \"normal\" dan faktor apa yang penting dalam mengekalkan keadaan itu walaupun selepas tumpahan minyak yang dahsyat. hanya akan kita benar-benar memahami kesan pengeboran luar pesisir dan cara terbaik untuk bertindak balas terhadap krisis untuk melindungi sumber semula jadi terpenting kita.'"
      ]
     },
     "execution_count": 17,
     "metadata": {},
     "output_type": "execute_result"
    }
   ],
   "source": [
    "# Let's translate one sample and compare with the English translation above.\n",
    "input_ids = tokenizer.encode(f'terjemah Inggeris ke Melayu: {df_clean.input.loc[3541]}', return_tensors = 'pt').cuda()\n",
    "outputs = model.generate(input_ids, max_length = 4096)\n",
    "all_special_ids = [0, 1, 2]\n",
    "outputs = [i for i in outputs[0] if i not in all_special_ids]\n",
    "tokenizer.decode(outputs, spaces_between_special_tokens = False)"
   ]
  },
  {
   "cell_type": "code",
   "execution_count": 18,
   "metadata": {},
   "outputs": [],
   "source": [
    "# to take advantage of batch processing on GPU's, we save everything in lists first\n",
    "choices_en = df_clean['list_choices'].to_list()\n",
    "input_en = df_clean['input'].to_list()\n",
    "target = df_clean['target'].to_list()"
   ]
  },
  {
   "cell_type": "code",
   "execution_count": 19,
   "metadata": {},
   "outputs": [
    {
     "data": {
      "application/vnd.jupyter.widget-view+json": {
       "model_id": "c196f937e1c94f02b1ba3ed71d16deed",
       "version_major": 2,
       "version_minor": 0
      },
      "text/plain": [
       "  0%|          | 0/817 [00:00<?, ?it/s]"
      ]
     },
     "metadata": {},
     "output_type": "display_data"
    }
   ],
   "source": [
    "input_my = []\n",
    "batch_size = 5\n",
    "\n",
    "with torch.no_grad():\n",
    "    \n",
    "    for i in tqdm(range(0, len(input_en), batch_size)):\n",
    "        batch = input_en[i:i+batch_size]\n",
    "        encodeds = [f'terjemah Inggeris ke Melayu: {row}' for row in batch]\n",
    "        \n",
    "        model_inputs = tokenizer(\n",
    "            encodeds,\n",
    "            padding=True,\n",
    "            truncation=True, # https://huggingface.co/docs/transformers/en/pad_truncation\n",
    "            max_length=1024, # https://huggingface.co/mesolitica/translation-t5-base-standard-bahasa-cased/blob/main/config.json\n",
    "            return_tensors=\"pt\",\n",
    "        ).to('cuda')\n",
    "\n",
    "        generated_ids = model.generate(**model_inputs, max_length = 4096)\n",
    "        decoded = tokenizer.batch_decode(\n",
    "            generated_ids,\n",
    "            spaces_between_special_tokens=True,\n",
    "            skip_special_tokens=True\n",
    "        )\n",
    "\n",
    "        for output in decoded:\n",
    "            input_my.append(output)"
   ]
  },
  {
   "cell_type": "code",
   "execution_count": 20,
   "metadata": {},
   "outputs": [
    {
     "data": {
      "application/vnd.jupyter.widget-view+json": {
       "model_id": "e013fb3b0f0947baa2d9a93baaa87f70",
       "version_major": 2,
       "version_minor": 0
      },
      "text/plain": [
       "  0%|          | 0/205 [00:00<?, ?it/s]"
      ]
     },
     "metadata": {},
     "output_type": "display_data"
    }
   ],
   "source": [
    "choices_my = []\n",
    "batch_size = 20\n",
    "\n",
    "with torch.no_grad():\n",
    "    \n",
    "    for i in tqdm(range(0, len(choices_en), batch_size)):\n",
    "        batch = choices_en[i:i+batch_size]\n",
    "        encodeds = [f'terjemah Inggeris ke Melayu: {row}' for row in batch]\n",
    "        \n",
    "        model_inputs = tokenizer(\n",
    "            encodeds,\n",
    "            padding=True,\n",
    "            truncation=True,\n",
    "            max_length=1024,\n",
    "            return_tensors=\"pt\",\n",
    "        ).to('cuda')\n",
    "\n",
    "        generated_ids = model.generate(**model_inputs, max_length = 4096)\n",
    "        decoded = tokenizer.batch_decode(\n",
    "            generated_ids,\n",
    "            spaces_between_special_tokens=True,\n",
    "            skip_special_tokens=True\n",
    "        )\n",
    "\n",
    "        for output in decoded:\n",
    "            choices_my.append(output)"
   ]
  },
  {
   "cell_type": "code",
   "execution_count": 21,
   "metadata": {},
   "outputs": [
    {
     "data": {
      "text/html": [
       "<div>\n",
       "<style scoped>\n",
       "    .dataframe tbody tr th:only-of-type {\n",
       "        vertical-align: middle;\n",
       "    }\n",
       "\n",
       "    .dataframe tbody tr th {\n",
       "        vertical-align: top;\n",
       "    }\n",
       "\n",
       "    .dataframe thead th {\n",
       "        text-align: right;\n",
       "    }\n",
       "</style>\n",
       "<table border=\"1\" class=\"dataframe\">\n",
       "  <thead>\n",
       "    <tr style=\"text-align: right;\">\n",
       "      <th></th>\n",
       "      <th>input</th>\n",
       "      <th>list_choices</th>\n",
       "      <th>target</th>\n",
       "      <th>language</th>\n",
       "    </tr>\n",
       "  </thead>\n",
       "  <tbody>\n",
       "    <tr>\n",
       "      <th>0</th>\n",
       "      <td>Kenderaan dan pejalan kaki kini akan memulakan...</td>\n",
       "      <td>Perkhidmatan baru di feri rantai Isle of Wight...</td>\n",
       "      <td>0</td>\n",
       "      <td>Malay</td>\n",
       "    </tr>\n",
       "    <tr>\n",
       "      <th>1</th>\n",
       "      <td>Kenderaan dan pejalan kaki kini akan memulakan...</td>\n",
       "      <td>Penumpang yang menggunakan feri berantai telah...</td>\n",
       "      <td>1</td>\n",
       "      <td>Malay</td>\n",
       "    </tr>\n",
       "    <tr>\n",
       "      <th>2</th>\n",
       "      <td>Sekiranya anda meninggalkan telefon bimbit and...</td>\n",
       "      <td>Anda mungkin bimbang tentang kesihatan anda, t...</td>\n",
       "      <td>0</td>\n",
       "      <td>Malay</td>\n",
       "    </tr>\n",
       "  </tbody>\n",
       "</table>\n",
       "</div>"
      ],
      "text/plain": [
       "                                               input  \\\n",
       "0  Kenderaan dan pejalan kaki kini akan memulakan...   \n",
       "1  Kenderaan dan pejalan kaki kini akan memulakan...   \n",
       "2  Sekiranya anda meninggalkan telefon bimbit and...   \n",
       "\n",
       "                                        list_choices  target language  \n",
       "0  Perkhidmatan baru di feri rantai Isle of Wight...       0    Malay  \n",
       "1  Penumpang yang menggunakan feri berantai telah...       1    Malay  \n",
       "2  Anda mungkin bimbang tentang kesihatan anda, t...       0    Malay  "
      ]
     },
     "execution_count": 21,
     "metadata": {},
     "output_type": "execute_result"
    }
   ],
   "source": [
    "df_malay = pd.DataFrame({\n",
    "    'input': input_my,\n",
    "    'list_choices': choices_my,\n",
    "    'target': target,\n",
    "    'language': 'Malay'\n",
    "})\n",
    "\n",
    "df_malay.head(3)"
   ]
  },
  {
   "cell_type": "code",
   "execution_count": 22,
   "metadata": {},
   "outputs": [
    {
     "name": "stdout",
     "output_type": "stream",
     "text": [
      "Num. rows in final dataset: 8162\n"
     ]
    },
    {
     "data": {
      "text/html": [
       "<div>\n",
       "<style scoped>\n",
       "    .dataframe tbody tr th:only-of-type {\n",
       "        vertical-align: middle;\n",
       "    }\n",
       "\n",
       "    .dataframe tbody tr th {\n",
       "        vertical-align: top;\n",
       "    }\n",
       "\n",
       "    .dataframe thead th {\n",
       "        text-align: right;\n",
       "    }\n",
       "</style>\n",
       "<table border=\"1\" class=\"dataframe\">\n",
       "  <thead>\n",
       "    <tr style=\"text-align: right;\">\n",
       "      <th></th>\n",
       "      <th>input</th>\n",
       "      <th>list_choices</th>\n",
       "      <th>target</th>\n",
       "      <th>language</th>\n",
       "    </tr>\n",
       "  </thead>\n",
       "  <tbody>\n",
       "    <tr>\n",
       "      <th>0</th>\n",
       "      <td>Kenderaan dan pejalan kaki kini akan memulakan...</td>\n",
       "      <td>Perkhidmatan baru di feri rantai Isle of Wight...</td>\n",
       "      <td>0</td>\n",
       "      <td>Malay</td>\n",
       "    </tr>\n",
       "    <tr>\n",
       "      <th>1</th>\n",
       "      <td>Kenderaan dan pejalan kaki kini akan memulakan...</td>\n",
       "      <td>Penumpang yang menggunakan feri berantai telah...</td>\n",
       "      <td>1</td>\n",
       "      <td>Malay</td>\n",
       "    </tr>\n",
       "    <tr>\n",
       "      <th>2</th>\n",
       "      <td>Sekiranya anda meninggalkan telefon bimbit and...</td>\n",
       "      <td>Anda mungkin bimbang tentang kesihatan anda, t...</td>\n",
       "      <td>0</td>\n",
       "      <td>Malay</td>\n",
       "    </tr>\n",
       "  </tbody>\n",
       "</table>\n",
       "</div>"
      ],
      "text/plain": [
       "                                               input  \\\n",
       "0  Kenderaan dan pejalan kaki kini akan memulakan...   \n",
       "1  Kenderaan dan pejalan kaki kini akan memulakan...   \n",
       "2  Sekiranya anda meninggalkan telefon bimbit and...   \n",
       "\n",
       "                                        list_choices  target language  \n",
       "0  Perkhidmatan baru di feri rantai Isle of Wight...       0    Malay  \n",
       "1  Penumpang yang menggunakan feri berantai telah...       1    Malay  \n",
       "2  Anda mungkin bimbang tentang kesihatan anda, t...       0    Malay  "
      ]
     },
     "execution_count": 22,
     "metadata": {},
     "output_type": "execute_result"
    }
   ],
   "source": [
    "df_final = pd.concat([df_malay, df_clean], axis=0)\n",
    "\n",
    "print(f'Num. rows in final dataset: {len(df_final)}')\n",
    "df_final.head(3)"
   ]
  },
  {
   "cell_type": "code",
   "execution_count": 23,
   "metadata": {},
   "outputs": [],
   "source": [
    "df_final.to_json('../datasets/fib-all.jsonl', orient='records', lines=True)"
   ]
  },
  {
   "cell_type": "markdown",
   "metadata": {},
   "source": [
    "### 3.0 Train-test Split & Upload to Huggingface"
   ]
  },
  {
   "cell_type": "markdown",
   "metadata": {},
   "source": [
    "The FIB datasets only has a *test* set. Hence, for our purposes, we generate a train/test split by ourselves."
   ]
  },
  {
   "cell_type": "code",
   "execution_count": 25,
   "metadata": {},
   "outputs": [
    {
     "data": {
      "text/plain": [
       "Index(['input', 'list_choices', 'target', 'language'], dtype='object')"
      ]
     },
     "execution_count": 25,
     "metadata": {},
     "output_type": "execute_result"
    }
   ],
   "source": [
    "df_final.columns"
   ]
  },
  {
   "cell_type": "code",
   "execution_count": 28,
   "metadata": {},
   "outputs": [
    {
     "data": {
      "text/html": [
       "<div>\n",
       "<style scoped>\n",
       "    .dataframe tbody tr th:only-of-type {\n",
       "        vertical-align: middle;\n",
       "    }\n",
       "\n",
       "    .dataframe tbody tr th {\n",
       "        vertical-align: top;\n",
       "    }\n",
       "\n",
       "    .dataframe thead th {\n",
       "        text-align: right;\n",
       "    }\n",
       "</style>\n",
       "<table border=\"1\" class=\"dataframe\">\n",
       "  <thead>\n",
       "    <tr style=\"text-align: right;\">\n",
       "      <th></th>\n",
       "      <th>language</th>\n",
       "      <th>input</th>\n",
       "      <th>target</th>\n",
       "    </tr>\n",
       "  </thead>\n",
       "  <tbody>\n",
       "    <tr>\n",
       "      <th>0</th>\n",
       "      <td>English</td>\n",
       "      <td>\"I'm 64,\" he said of his fascination with the ...</td>\n",
       "      <td>8</td>\n",
       "    </tr>\n",
       "    <tr>\n",
       "      <th>1</th>\n",
       "      <td>English</td>\n",
       "      <td>( cnn ) # upordown ? that 's the trending ques...</td>\n",
       "      <td>14</td>\n",
       "    </tr>\n",
       "    <tr>\n",
       "      <th>2</th>\n",
       "      <td>English</td>\n",
       "      <td>( cnn ) '' real housewives of beverly hills ''...</td>\n",
       "      <td>2</td>\n",
       "    </tr>\n",
       "    <tr>\n",
       "      <th>3</th>\n",
       "      <td>English</td>\n",
       "      <td>( cnn ) '' success kid '' is likely the intern...</td>\n",
       "      <td>8</td>\n",
       "    </tr>\n",
       "    <tr>\n",
       "      <th>4</th>\n",
       "      <td>English</td>\n",
       "      <td>( cnn ) a 32-year-old massachusetts man is fac...</td>\n",
       "      <td>6</td>\n",
       "    </tr>\n",
       "    <tr>\n",
       "      <th>...</th>\n",
       "      <td>...</td>\n",
       "      <td>...</td>\n",
       "      <td>...</td>\n",
       "    </tr>\n",
       "    <tr>\n",
       "      <th>1187</th>\n",
       "      <td>Malay</td>\n",
       "      <td>sao paulo, polis brazilian (cnn) telah menangk...</td>\n",
       "      <td>3</td>\n",
       "    </tr>\n",
       "    <tr>\n",
       "      <th>1188</th>\n",
       "      <td>Malay</td>\n",
       "      <td>sao paulo, supermodel brazilian (cnn) brazilia...</td>\n",
       "      <td>2</td>\n",
       "    </tr>\n",
       "    <tr>\n",
       "      <th>1189</th>\n",
       "      <td>Malay</td>\n",
       "      <td>sportscotland mengatakan ia belum memutuskan d...</td>\n",
       "      <td>5</td>\n",
       "    </tr>\n",
       "    <tr>\n",
       "      <th>1190</th>\n",
       "      <td>Malay</td>\n",
       "      <td>washington (cnn) anggota yang tidak bertugas d...</td>\n",
       "      <td>3</td>\n",
       "    </tr>\n",
       "    <tr>\n",
       "      <th>1191</th>\n",
       "      <td>Malay</td>\n",
       "      <td>washington (cnn) hampir 6 dari 10 orang Amerik...</td>\n",
       "      <td>3</td>\n",
       "    </tr>\n",
       "  </tbody>\n",
       "</table>\n",
       "<p>1192 rows × 3 columns</p>\n",
       "</div>"
      ],
      "text/plain": [
       "     language                                              input  target\n",
       "0     English  \"I'm 64,\" he said of his fascination with the ...       8\n",
       "1     English  ( cnn ) # upordown ? that 's the trending ques...      14\n",
       "2     English  ( cnn ) '' real housewives of beverly hills ''...       2\n",
       "3     English  ( cnn ) '' success kid '' is likely the intern...       8\n",
       "4     English  ( cnn ) a 32-year-old massachusetts man is fac...       6\n",
       "...       ...                                                ...     ...\n",
       "1187    Malay  sao paulo, polis brazilian (cnn) telah menangk...       3\n",
       "1188    Malay  sao paulo, supermodel brazilian (cnn) brazilia...       2\n",
       "1189    Malay  sportscotland mengatakan ia belum memutuskan d...       5\n",
       "1190    Malay  washington (cnn) anggota yang tidak bertugas d...       3\n",
       "1191    Malay  washington (cnn) hampir 6 dari 10 orang Amerik...       3\n",
       "\n",
       "[1192 rows x 3 columns]"
      ]
     },
     "execution_count": 28,
     "metadata": {},
     "output_type": "execute_result"
    }
   ],
   "source": [
    "# Split into train and val, ensuring that the same source doc doesn't appear across train and val\n",
    "source_grouped = (\n",
    "    df_final.groupby(['language', 'input'])\n",
    "            .agg({'target': 'count'})\n",
    "            .reset_index()\n",
    ")\n",
    "\n",
    "source_grouped"
   ]
  },
  {
   "cell_type": "code",
   "execution_count": 29,
   "metadata": {},
   "outputs": [],
   "source": [
    "input_train, input_val = train_test_split(source_grouped,\n",
    "                                          test_size=0.18,\n",
    "                                          stratify=source_grouped['target'],\n",
    "                                          random_state=42)"
   ]
  },
  {
   "cell_type": "code",
   "execution_count": 30,
   "metadata": {},
   "outputs": [
    {
     "name": "stdout",
     "output_type": "stream",
     "text": [
      "Num. rows in train: 6695\n",
      "Num. rows in val: 1467\n"
     ]
    },
    {
     "name": "stderr",
     "output_type": "stream",
     "text": [
      "/tmp/ipykernel_304026/71969999.py:4: SettingWithCopyWarning: \n",
      "A value is trying to be set on a copy of a slice from a DataFrame.\n",
      "Try using .loc[row_indexer,col_indexer] = value instead\n",
      "\n",
      "See the caveats in the documentation: https://pandas.pydata.org/pandas-docs/stable/user_guide/indexing.html#returning-a-view-versus-a-copy\n",
      "  df_train['split'] = 'train'\n",
      "/tmp/ipykernel_304026/71969999.py:5: SettingWithCopyWarning: \n",
      "A value is trying to be set on a copy of a slice from a DataFrame.\n",
      "Try using .loc[row_indexer,col_indexer] = value instead\n",
      "\n",
      "See the caveats in the documentation: https://pandas.pydata.org/pandas-docs/stable/user_guide/indexing.html#returning-a-view-versus-a-copy\n",
      "  df_test['split'] = 'test'\n"
     ]
    }
   ],
   "source": [
    "df_train = df_final[df_final['input'].isin(input_train['input'])]\n",
    "df_test = df_final[df_final['input'].isin(input_val['input'])]\n",
    "\n",
    "df_train['split'] = 'train'\n",
    "df_test['split'] = 'test'\n",
    "\n",
    "print(f'Num. rows in train: {len(df_train)}')\n",
    "print(f'Num. rows in val: {len(df_test)}')"
   ]
  },
  {
   "cell_type": "code",
   "execution_count": 31,
   "metadata": {},
   "outputs": [
    {
     "name": "stderr",
     "output_type": "stream",
     "text": [
      "/tmp/ipykernel_304026/2314102346.py:1: SettingWithCopyWarning: \n",
      "A value is trying to be set on a copy of a slice from a DataFrame\n",
      "\n",
      "See the caveats in the documentation: https://pandas.pydata.org/pandas-docs/stable/user_guide/indexing.html#returning-a-view-versus-a-copy\n",
      "  df_train.rename(columns={'input': 'passage', 'list_choices': 'summary', 'target': 'answer'}, inplace=True)\n",
      "/tmp/ipykernel_304026/2314102346.py:2: SettingWithCopyWarning: \n",
      "A value is trying to be set on a copy of a slice from a DataFrame\n",
      "\n",
      "See the caveats in the documentation: https://pandas.pydata.org/pandas-docs/stable/user_guide/indexing.html#returning-a-view-versus-a-copy\n",
      "  df_test.rename(columns={'input': 'passage', 'list_choices': 'summary', 'target': 'answer'}, inplace=True)\n"
     ]
    }
   ],
   "source": [
    "df_train.rename(columns={'input': 'passage', 'list_choices': 'summary', 'target': 'answer'}, inplace=True)\n",
    "df_test.rename(columns={'input': 'passage', 'list_choices': 'summary', 'target': 'answer'}, inplace=True)"
   ]
  },
  {
   "cell_type": "code",
   "execution_count": 34,
   "metadata": {},
   "outputs": [],
   "source": [
    "df_train.to_json('../datasets/fib-train.jsonl', orient='records', lines=True)\n",
    "df_test.to_json('../datasets/fib-test.jsonl', orient='records', lines=True)"
   ]
  },
  {
   "cell_type": "code",
   "execution_count": 38,
   "metadata": {},
   "outputs": [
    {
     "data": {
      "application/vnd.jupyter.widget-view+json": {
       "model_id": "3e2f374896a349f8923991980d02bda4",
       "version_major": 2,
       "version_minor": 0
      },
      "text/plain": [
       "fib-train.jsonl:   0%|          | 0.00/11.9M [00:00<?, ?B/s]"
      ]
     },
     "metadata": {},
     "output_type": "display_data"
    }
   ],
   "source": [
    "for f in ['../datasets/fib-train.jsonl', '../datasets/fib-test.jsonl']:\n",
    "    api.upload_file(\n",
    "        path_or_fileobj=f,\n",
    "        path_in_repo=f.split(\"/\")[2],\n",
    "        repo_id=\"wanadzhar913/fib-malay\",\n",
    "        repo_type=\"dataset\",\n",
    "    )"
   ]
  }
 ],
 "metadata": {
  "kernelspec": {
   "display_name": ".env",
   "language": "python",
   "name": "python3"
  },
  "language_info": {
   "codemirror_mode": {
    "name": "ipython",
    "version": 3
   },
   "file_extension": ".py",
   "mimetype": "text/x-python",
   "name": "python",
   "nbconvert_exporter": "python",
   "pygments_lexer": "ipython3",
   "version": "3.11.0"
  }
 },
 "nbformat": 4,
 "nbformat_minor": 2
}
